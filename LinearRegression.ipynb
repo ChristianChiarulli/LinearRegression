{
 "cells": [
  {
   "cell_type": "markdown",
   "metadata": {},
   "source": [
    "# Linear Regression\n",
    "****"
   ]
  },
  {
   "cell_type": "markdown",
   "metadata": {},
   "source": [
    "## Theory\n",
    "\n",
    "* Our line of best fit is defined as :\n",
    "\n",
    "$$\\hat{y_{i}}=\\alpha x_{i}+\\beta $$\n",
    "\n",
    "* How can we make sure this \"fits\" the data well? We would like:\n",
    "\n",
    "<center>$y_{i}$ close to $\\hat{y_{i}},$   i=1...N</center>\n",
    "    \n",
    "where:\n",
    "\n",
    "* $y_{i}$ is the actual value \n",
    "* $\\hat{y_{i}}$ is our predicted value\n",
    "\n",
    "<br />\n",
    "<br />\n",
    "\n",
    "<p align=\"center\"> \n",
    "<img src=\"./images/Linear_Regression_Error.gif\">\n",
    "</p>\n",
    "\n",
    "\n",
    "<br />\n",
    "<br />\n",
    "\n",
    "****\n",
    "\n",
    "* We need to find a good way to calculate error\n",
    "\n",
    "* Can we do this?\n",
    "\n",
    "$$Error ?= \\sum_{i=1}^{N}(y_{i}-\\hat{y_{i}})$$\n",
    "\n",
    "* No!\n",
    "* If one sample gives us +5, and another gives us -5, the sum would be 0!\n",
    "    * And this is clearly not 0 error\n",
    " \n",
    "<br />\n",
    "<br />\n",
    "\n",
    "****\n",
    "    \n",
    "* What we want \n",
    "    * For any target != prediction, a + contribution to error\n",
    "    * Standard way is to square the difference\n",
    "    * Called the \"sum of squared errors\"\n",
    "    \n",
    "$$Error = \\sum_{i=1}^{N}(y_{i}-\\hat{y_{i}})^{2}$$\n",
    "\n",
    "<br />\n",
    "<br />\n",
    "\n",
    "****\n",
    "\n",
    "* How can we minimize E for our problem?\n",
    "\n",
    "1. Substitute with our expression for a line\n",
    "\n",
    "$$E = \\sum_{i=1}^{N}(y_{i}-(\\alpha x_{i}+\\beta ))^{2}$$\n",
    "\n",
    "* Remember $y_{i}$ and $x_{i}$ are given (collected data)\n",
    "* What we want is to find $\\alpha$ and $\\beta$\n",
    "\n",
    "<br />\n",
    "<br />\n",
    "\n",
    "****\n",
    "\n",
    "* We want to minimizer E wrt $\\alpha$ *and* $\\beta$\n",
    "* E is a function of 2 variables, therefore, we need to use partial differentiation\n",
    "\n",
    "<br />\n",
    "<br />\n",
    "\n",
    "****\n",
    "\n",
    "* Find partial wrt $\\alpha$\n",
    "\n",
    "$$\\sum_{i=1}^{N}2(y_{i}-(\\alpha x_{i}+\\beta ))(-x_{i})=0$$\n",
    "\n",
    "* Rewrite as\n",
    "\n",
    "$$-\\sum_{i=1}^{N}y_{i}x_{i}+\\alpha \\sum_{i=1}^{N}x_{i}^{2}+\\beta \\sum_{i=1}^{N}x_{i}=0$$\n",
    "\n",
    "* Make everything positive\n",
    "\n",
    "$$\\alpha \\sum_{i=1}^{N}x_{i}^{2}+\\beta \\sum_{i=1}^{N}x_{i}=\\sum_{i=1}^{N}y_{i}x_{i}$$\n",
    "\n",
    "* We have 2 unkowns but only 1 equation!\n",
    "* We still need the derivative wrt $\\beta$\n",
    "\n",
    "<br />\n",
    "<br />\n",
    "\n",
    "****\n",
    "\n",
    "* Find partial wrt $\\alpha$\n",
    "\n",
    "$$\\sum_{i=1}^{N}2(y_{i}-(\\alpha x_{i}+\\beta ))(-1)=0$$\n",
    "\n",
    "* Rewrite as\n",
    "\n",
    "$$-\\sum_{i=1}^{N}y_{i}+\\alpha \\sum_{i=1}^{N}x_{i}+\\beta \\sum_{i=1}^{N}1=0$$\n",
    "\n",
    "* Make everything positive \n",
    "\n",
    "$$\\alpha \\sum_{i=1}^{N}x_{i}+\\beta N=\\sum_{i=1}^{N}y_{i}$$\n",
    "\n",
    "* We now have our equations\n",
    "\n",
    "<br />\n",
    "<br />\n",
    "\n",
    "****\n",
    "\n",
    "* Recall from Algebra: 2 equations and 2 unkowns\n",
    "\n",
    "$$\\alpha \\sum_{i=1}^{N}x_{i}^{2}+\\beta \\sum_{i=1}^{N}x_{i}=\\sum_{i=1}^{N}y_{i}x_{i}$$\n",
    "<br />\n",
    "$$\\alpha \\sum_{i=1}^{N}x_{i}+\\beta N=\\sum_{i=1}^{N}y_{i}$$\n",
    "\n",
    "<br />\n",
    "<br />\n",
    "\n",
    "****\n",
    "\n",
    "* Make is easier to solve by replacing summations with letters\n",
    "\n",
    "$C = \\sum_{i=1}^{N}x_{i}^{2}$\n",
    "<br />\n",
    "<br />\n",
    "$D = \\sum_{i=1}^{N}x_{i}$\n",
    "<br />\n",
    "<br />\n",
    "$E = \\sum_{i=1}^{N}y_{i}x_{i}$\n",
    "<br />\n",
    "<br />\n",
    "$F = \\sum_{i=1}^{N}y_{i}$\n",
    "<br />\n",
    "<br />\n",
    "\n",
    "* Giving us\n",
    "<br />\n",
    "$$\\alpha C+ \\beta D = E$$\n",
    "<br />\n",
    "$$\\alpha D + \\beta N = F$$\n",
    "\n",
    "<br />\n",
    "<br />\n",
    "\n",
    "****\n",
    "\n",
    "* Using either the elmination or subsitution method you should get\n",
    "\n",
    "$$\\alpha = \\frac{EN-FD}{NC-D^{2}}$$\n",
    "<br />\n",
    "<br />\n",
    "$$\\beta = \\frac{ED-FC}{D^{2}-NC}$$\n",
    "\n",
    "<br />\n",
    "<br />\n",
    "\n",
    "****\n",
    "\n",
    "* Plugging back in\n",
    "\n",
    "$$\\alpha=\\frac{N\\sum_{i=1}^{N}y_ix_i-\\sum_{i=1}^{N}x_i\\sum_{i=1}^{N}y_i}{N\\sum_{i=1}^{N}x_i^2-(\\sum_{i=1}^{N})^2}$$\n",
    "\n",
    "<br />\n",
    "<br />\n",
    "\n",
    "$$\\beta=\\frac{\\sum_{i=1}^{N}x_i\\sum_{i=1}^{N}y_ix_i-\\sum_{i=1}^Ny_i\\sum_{i=1}^Nx_i^2}{(\\sum_{i=1}^N)^2-N\\sum_{i=1}^Nx_i^2}$$\n",
    "\n",
    "<br />\n",
    "<br />\n",
    "\n",
    "****\n",
    "\n",
    "* Rewrite $\\beta$ to get the same denominator\n",
    "\n",
    "$$\\alpha=\\frac{N\\sum_{i=1}^{N}y_ix_i-\\sum_{i=1}^{N}x_i\\sum_{i=1}^{N}y_i}{N\\sum_{i=1}^{N}x_i^2-(\\sum_{i=1}^{N})^2}$$\n",
    "\n",
    "<br />\n",
    "<br />\n",
    "\n",
    "$$\\beta=\\frac{\\sum_{i=1}^Ny_i\\sum_{i=1}^Nx_i^2-\\sum_{i=1}^{N}x_i\\sum_{i=1}^{N}y_ix_i}{N\\sum_{i=1}^Nx_i^2-(\\sum_{i=1}^N)^2}$$\n",
    "\n",
    "<br />\n",
    "<br />\n",
    "\n",
    "****\n",
    "\n",
    "* This is pretty ugly so let's simplify\n",
    "\n",
    "* Recall the definition of a sample mean - denoted by a 'bar'\n",
    "\n",
    "$$\\bar{x}=\\frac{1}{N}\\sum_{i=1}^Nx_i$$\n",
    "\n",
    "* We can also do this when it involves multiple variables insides the sum\n",
    "\n",
    "$$\\bar{xy}=\\frac{1}{N}\\sum_{i=1}^Nx_iy_i$$\n",
    "\n",
    "<br />\n",
    "<br />\n",
    "\n",
    "****\n",
    "\n",
    "* Final Solution\n",
    "\n",
    "$$\\alpha = \\frac{\\bar{xy}-\\bar{x}\\bar{y}}{\\bar{x^2}-\\bar{x}^2}$$\n",
    "\n",
    "<br />\n",
    "<br />\n",
    "\n",
    "$$\\alpha = \\frac{\\bar{y}\\bar{x^2}-\\bar{x}\\bar{xy}}{\\bar{x^2}-\\bar{x}^2}$$\n",
    "\n",
    "<br />\n",
    "<br />\n",
    "\n",
    "****\n",
    "\n",
    "* Note on dot product \n",
    "\n",
    "$$a^Tb=\\sum_{i=1}^Na_ib_i$$\n",
    "\n",
    "* Never do this\n",
    "<br />\n",
    "\n",
    "```python\n",
    "total = 0\n",
    "for i in range(N):\n",
    "    total += a[i]*b[i]\n",
    "```\n",
    "* Instead\n",
    "<br />\n",
    "\n",
    "```python\n",
    "total = a.dot(b) or total = np.dot(a, b)\n",
    "```\n",
    "<br />\n",
    "* Numpy also has mean() and sum() functions wheich we'll find useful\n",
    "<br />\n",
    "<br />\n",
    "\n",
    "****"
   ]
  },
  {
   "cell_type": "code",
   "execution_count": 1,
   "metadata": {},
   "outputs": [],
   "source": [
    "import numpy as np\n",
    "import matplotlib.pyplot as plt"
   ]
  },
  {
   "cell_type": "code",
   "execution_count": 35,
   "metadata": {},
   "outputs": [],
   "source": [
    "# load data\n",
    "\n",
    "X = []\n",
    "Y = []\n",
    "\n",
    "for line in open('data/data_1d.csv'):\n",
    "    x, y = line.split(',')\n",
    "    X.append(float(x))\n",
    "    Y.append(float(y))"
   ]
  },
  {
   "cell_type": "code",
   "execution_count": 36,
   "metadata": {},
   "outputs": [],
   "source": [
    "# lets turn X and Y into numpy arrays\n",
    "\n",
    "Y = np.array(Y)\n",
    "X = np.array(X)"
   ]
  },
  {
   "cell_type": "code",
   "execution_count": 37,
   "metadata": {},
   "outputs": [
    {
     "data": {
      "text/plain": [
       "array([197.17963609,  67.59066954,  60.85413282])"
      ]
     },
     "execution_count": 37,
     "metadata": {},
     "output_type": "execute_result"
    }
   ],
   "source": [
    "Y[:3]"
   ]
  },
  {
   "cell_type": "code",
   "execution_count": 38,
   "metadata": {},
   "outputs": [
    {
     "data": {
      "text/plain": [
       "array([95.72416241, 35.75761893, 28.81684742])"
      ]
     },
     "execution_count": 38,
     "metadata": {},
     "output_type": "execute_result"
    }
   ],
   "source": [
    "X[:3]"
   ]
  },
  {
   "cell_type": "code",
   "execution_count": 39,
   "metadata": {},
   "outputs": [
    {
     "data": {
      "image/png": "[encoded data removed]",
      "text/plain": [
       "<Figure size 432x288 with 1 Axes>"
      ]
     },
     "metadata": {
      "needs_background": "light"
     },
     "output_type": "display_data"
    }
   ],
   "source": [
    "# plot data to get idea\n",
    "\n",
    "plt.scatter(X, Y, s=5)\n",
    "plt.show()"
   ]
  },
  {
   "cell_type": "code",
   "execution_count": 40,
   "metadata": {},
   "outputs": [
    {
     "data": {
      "text/plain": [
       "53.037609423246906"
      ]
     },
     "execution_count": 40,
     "metadata": {},
     "output_type": "execute_result"
    }
   ],
   "source": [
    "X.mean()"
   ]
  },
  {
   "cell_type": "code",
   "execution_count": 41,
   "metadata": {},
   "outputs": [
    {
     "data": {
      "text/plain": [
       "5303.76094232469"
      ]
     },
     "execution_count": 41,
     "metadata": {},
     "output_type": "execute_result"
    }
   ],
   "source": [
    "X.sum()"
   ]
  },
  {
   "cell_type": "code",
   "execution_count": 42,
   "metadata": {},
   "outputs": [
    {
     "data": {
      "text/plain": [
       "100"
      ]
     },
     "execution_count": 42,
     "metadata": {},
     "output_type": "execute_result"
    }
   ],
   "source": [
    "len(X)"
   ]
  },
  {
   "cell_type": "code",
   "execution_count": 43,
   "metadata": {},
   "outputs": [
    {
     "data": {
      "text/plain": [
       "352941.79405428586"
      ]
     },
     "execution_count": 43,
     "metadata": {},
     "output_type": "execute_result"
    }
   ],
   "source": [
    "X.dot(X)"
   ]
  },
  {
   "cell_type": "code",
   "execution_count": 44,
   "metadata": {},
   "outputs": [],
   "source": [
    "# apply equations to calculate a and b\n",
    "\n",
    "\n",
    "\n",
    "denominator = X.dot(X) - X.mean() * X.sum()\n",
    "\n",
    "a = (X.dot(Y) - Y.mean() * X.sum()) / denominator\n",
    "b = (Y.mean() * X.dot(X) - X.mean() * X.dot(Y)) / denominator"
   ]
  },
  {
   "cell_type": "code",
   "execution_count": 45,
   "metadata": {},
   "outputs": [],
   "source": [
    "Yhat = a*X + b"
   ]
  },
  {
   "cell_type": "code",
   "execution_count": 50,
   "metadata": {},
   "outputs": [
    {
     "data": {
      "image/png": "[encoded data removed]",
      "text/plain": [
       "<Figure size 432x288 with 1 Axes>"
      ]
     },
     "metadata": {
      "needs_background": "light"
     },
     "output_type": "display_data"
    }
   ],
   "source": [
    "plt.scatter(X, Y, s=10)\n",
    "plt.plot(X, Yhat)\n",
    "plt.show()"
   ]
  },
  {
   "cell_type": "markdown",
   "metadata": {},
   "source": [
    "## R-Squared"
   ]
  },
  {
   "cell_type": "code",
   "execution_count": 51,
   "metadata": {},
   "outputs": [],
   "source": [
    "# Calculate R-squared\n",
    "\n",
    "# 1 = perfect\n",
    "# 0 = average 50%\n",
    "# - = worse than average\n",
    "\n",
    "d1 = Y - Yhat\n",
    "d2 = Y - Y.mean()\n",
    "r2 = 1 - d1.dot(d1) / d2.dot(d2)"
   ]
  },
  {
   "cell_type": "code",
   "execution_count": 52,
   "metadata": {},
   "outputs": [
    {
     "data": {
      "text/plain": [
       "0.9911838202977805"
      ]
     },
     "execution_count": 52,
     "metadata": {},
     "output_type": "execute_result"
    }
   ],
   "source": [
    "r2"
   ]
  },
  {
   "cell_type": "code",
   "execution_count": null,
   "metadata": {},
   "outputs": [],
   "source": []
  }
 ],
 "metadata": {
  "kernelspec": {
   "display_name": "Python 3",
   "language": "python",
   "name": "python3"
  },
  "language_info": {
   "codemirror_mode": {
    "name": "ipython",
    "version": 3
   },
   "file_extension": ".py",
   "mimetype": "text/x-python",
   "name": "python",
   "nbconvert_exporter": "python",
   "pygments_lexer": "ipython3",
   "version": "3.7.1"
  }
 },
 "nbformat": 4,
 "nbformat_minor": 2
}
