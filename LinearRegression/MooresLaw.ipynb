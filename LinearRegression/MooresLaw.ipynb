{
 "cells": [
  {
   "cell_type": "markdown",
   "metadata": {},
   "source": [
    "## Demonstrating Moore's Law in Code\n",
    "\n",
    "* Linear regression can be used on problems that don't necessarily seem linear at first\n",
    "\n",
    "* It is a great first line of attack to discover correlations in data\n",
    "\n",
    "Moore's Law:\n",
    "\n",
    "Transistor count on integrated circuits doubles every 2 years\n",
    "\n",
    "the word 'doubles' gives us a hint that there is an exponential relationship \n",
    "\n",
    "the trick is not to measure transistor counts directly, we will measure the log of transistor counts\n",
    "\n",
    "tc = Transistor Count\n",
    "\n",
    "\n",
    "$$ln(tc) = a*year +b$$\n",
    "\n",
    "<br />\n",
    "\n",
    "$$e^{ln(tc)} = e^{a * year +b}$$\n",
    "\n",
    "<br />\n",
    "\n",
    "$$2tc = 2 * e^{a * year} * e^b$$\n",
    "\n",
    "<br />\n",
    "\n",
    "$$2tc = e^{a * year + ln(2)} * e^b$$\n",
    "\n",
    "<br />\n",
    "\n",
    "$$a * year2 = a * year1 + ln(2)$$\n",
    "\n",
    "<br />\n",
    "\n",
    "$$year2 = year1 + \\frac{ln(2)}{a}$$\n",
    "\n",
    "<br />"
   ]
  },
  {
   "cell_type": "code",
   "execution_count": 1,
   "metadata": {},
   "outputs": [],
   "source": [
    "import re\n",
    "import numpy as np\n",
    "import matplotlib.pyplot as plt\n",
    "\n",
    "X = []\n",
    "Y = []"
   ]
  },
  {
   "cell_type": "code",
   "execution_count": 10,
   "metadata": {},
   "outputs": [],
   "source": [
    "non_decimal = re.compile(r'[^\\d]+')"
   ]
  },
  {
   "cell_type": "code",
   "execution_count": 11,
   "metadata": {},
   "outputs": [],
   "source": [
    "for line in open('data/moore.csv'):\n",
    "    r = line.split('\\t')\n",
    "\n",
    "    x = int(non_decimal.sub('', r[2].split('[')[0]))\n",
    "    y = int(non_decimal.sub('', r[1].split('[')[0]))\n",
    "    X.append(x)\n",
    "    Y.append(y)\n",
    "    "
   ]
  },
  {
   "cell_type": "code",
   "execution_count": 12,
   "metadata": {},
   "outputs": [],
   "source": [
    "X = np.array(X)\n",
    "Y = np.array(Y)"
   ]
  },
  {
   "cell_type": "code",
   "execution_count": 13,
   "metadata": {},
   "outputs": [
    {
     "data": {
      "image/png": "[encoded data removed]",
      "text/plain": [
       "<Figure size 432x288 with 1 Axes>"
      ]
     },
     "metadata": {
      "needs_background": "light"
     },
     "output_type": "display_data"
    }
   ],
   "source": [
    "plt.scatter(X, Y)\n",
    "plt.show()"
   ]
  },
  {
   "cell_type": "code",
   "execution_count": 14,
   "metadata": {},
   "outputs": [],
   "source": [
    "Y = np.log(Y)"
   ]
  },
  {
   "cell_type": "code",
   "execution_count": 17,
   "metadata": {},
   "outputs": [
    {
     "data": {
      "image/png": "[encoded data removed]",
      "text/plain": [
       "<Figure size 432x288 with 1 Axes>"
      ]
     },
     "metadata": {
      "needs_background": "light"
     },
     "output_type": "display_data"
    }
   ],
   "source": [
    "plt.scatter(X,Y)\n",
    "plt.show()"
   ]
  },
  {
   "cell_type": "code",
   "execution_count": 29,
   "metadata": {},
   "outputs": [
    {
     "name": "stdout",
     "output_type": "stream",
     "text": [
      "a:  0.3510435733642831 b:  -685.000284380311\n"
     ]
    }
   ],
   "source": [
    "N = len(X)\n",
    "\n",
    "denominator = (N * X.dot(X)) - sum(X)**2\n",
    "\n",
    "a_numerator = N * X.dot(Y) - sum(X)*sum(Y)\n",
    "b_numerator = sum(Y)*X.dot(X) - sum(X)*X.dot(Y)\n",
    "\n",
    "a = a_numerator / denominator\n",
    "b = b_numerator / denominator\n",
    "\n",
    "print('a: ', a, 'b: ', b)"
   ]
  },
  {
   "cell_type": "code",
   "execution_count": 26,
   "metadata": {},
   "outputs": [],
   "source": [
    "Yhat = a*X + b"
   ]
  },
  {
   "cell_type": "code",
   "execution_count": 27,
   "metadata": {},
   "outputs": [
    {
     "data": {
      "image/png": "[encoded data removed]",
      "text/plain": [
       "<Figure size 432x288 with 1 Axes>"
      ]
     },
     "metadata": {
      "needs_background": "light"
     },
     "output_type": "display_data"
    }
   ],
   "source": [
    "plt.scatter(X, Y, s=10)\n",
    "plt.plot(X, Yhat)\n",
    "plt.show()"
   ]
  },
  {
   "cell_type": "code",
   "execution_count": 31,
   "metadata": {},
   "outputs": [
    {
     "name": "stdout",
     "output_type": "stream",
     "text": [
      "R-squared is:  0.9529442852285767\n"
     ]
    }
   ],
   "source": [
    "SSres = sum((Y-Yhat)**2)\n",
    "SStot = sum((Y-Y.mean())**2)\n",
    "R2 = 1 - SSres/SStot\n",
    "print('R-squared is: ', R2)"
   ]
  },
  {
   "cell_type": "code",
   "execution_count": 33,
   "metadata": {},
   "outputs": [
    {
     "name": "stdout",
     "output_type": "stream",
     "text": [
      "Time to double: 1.974533172383863 years\n"
     ]
    }
   ],
   "source": [
    "print('Time to double:', np.log(2)/a, 'years')"
   ]
  },
  {
   "cell_type": "code",
   "execution_count": null,
   "metadata": {},
   "outputs": [],
   "source": []
  }
 ],
 "metadata": {
  "kernelspec": {
   "display_name": "Python 3",
   "language": "python",
   "name": "python3"
  },
  "language_info": {
   "codemirror_mode": {
    "name": "ipython",
    "version": 3
   },
   "file_extension": ".py",
   "mimetype": "text/x-python",
   "name": "python",
   "nbconvert_exporter": "python",
   "pygments_lexer": "ipython3",
   "version": "3.7.3"
  }
 },
 "nbformat": 4,
 "nbformat_minor": 4
}
