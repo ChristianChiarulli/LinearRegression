{
 "cells": [
  {
   "cell_type": "markdown",
   "metadata": {},
   "source": [
    "# Linear Regression\n",
    "****"
   ]
  },
  {
   "cell_type": "markdown",
   "metadata": {},
   "source": [
    "## Theory\n",
    "\n",
    "* Our line of best fit is defined as :\n",
    "\n",
    "$$\\hat{y_{i}}=\\alpha x_{i}+\\beta $$\n",
    "\n",
    "* How can we make sure this \"fits\" the data well? We would like:\n",
    "\n",
    "<center>$y_{i}$ close to $\\hat{y_{i}},$   i=1...N</center>\n",
    "    \n",
    "where:\n",
    "\n",
    "* $y_{i}$ is the actual value \n",
    "* $\\hat{y_{i}}$ is our predicted value\n",
    "\n",
    "<br />\n",
    "<br />\n",
    "\n",
    "<p align=\"center\"> \n",
    "<img src=\"./images/Linear_Regression_Error.gif\">\n",
    "</p>\n",
    "\n",
    "\n",
    "<br />\n",
    "<br />\n",
    "\n",
    "****\n",
    "\n",
    "* We need to find a good way to calculate error\n",
    "\n",
    "* Can we do this?\n",
    "\n",
    "$$Error ?= \\sum_{i=1}^{N}(y_{i}-\\hat{y_{i}})$$\n",
    "\n",
    "* No!\n",
    "* If one sample gives us +5, and another gives us -5, the sum would be 0!\n",
    "    * And this is clearly not 0 error\n",
    " \n",
    "<br />\n",
    "<br />\n",
    "\n",
    "****\n",
    "    \n",
    "* What we want \n",
    "    * For any target != prediction, a + contribution to error\n",
    "    * Standard way is to square the difference\n",
    "    * Called the \"sum of squared errors\"\n",
    "    \n",
    "$$Error = \\sum_{i=1}^{N}(y_{i}-\\hat{y_{i}})^{2}$$\n",
    "\n",
    "<br />\n",
    "<br />\n",
    "\n",
    "****\n",
    "\n",
    "* How can we minimize E for our problem?\n",
    "\n",
    "1. Substitute with our expression for a line\n",
    "\n",
    "$$E = \\sum_{i=1}^{N}(y_{i}-(\\alpha x_{i}+\\beta ))^{2}$$\n",
    "\n",
    "* Remember $y_{i}$ and $x_{i}$ are given (collected data)\n",
    "* What we want is to find $\\alpha$ and $\\beta$\n",
    "\n",
    "<br />\n",
    "<br />\n",
    "\n",
    "****\n",
    "\n",
    "* We want to minimize E wrt $\\alpha$ *and* $\\beta$\n",
    "* E is a function of 2 variables, therefore, we need to use partial differentiation\n",
    "\n",
    "<br />\n",
    "<br />\n",
    "\n",
    "****\n",
    "\n",
    "* Find partial wrt $\\alpha$\n",
    "\n",
    "$$\\sum_{i=1}^{N}2(y_{i}-(\\alpha x_{i}+\\beta ))(-x_{i})=0$$\n",
    "\n",
    "* Rewrite as\n",
    "\n",
    "$$-\\sum_{i=1}^{N}y_{i}x_{i}+\\alpha \\sum_{i=1}^{N}x_{i}^{2}+\\beta \\sum_{i=1}^{N}x_{i}=0$$\n",
    "\n",
    "* Make everything positive\n",
    "\n",
    "$$\\alpha \\sum_{i=1}^{N}x_{i}^{2}+\\beta \\sum_{i=1}^{N}x_{i}=\\sum_{i=1}^{N}y_{i}x_{i}$$\n",
    "\n",
    "* We have 2 unkowns but only 1 equation!\n",
    "* We still need the derivative wrt $\\beta$\n",
    "\n",
    "<br />\n",
    "<br />\n",
    "\n",
    "****\n",
    "\n",
    "* Find partial wrt $\\beta$\n",
    "\n",
    "$$\\sum_{i=1}^{N}2(y_{i}-(\\alpha x_{i}+\\beta ))(-1)=0$$\n",
    "\n",
    "* Rewrite as\n",
    "\n",
    "$$-\\sum_{i=1}^{N}y_{i}+\\alpha \\sum_{i=1}^{N}x_{i}+\\beta \\sum_{i=1}^{N}1=0$$\n",
    "\n",
    "* Make everything positive \n",
    "\n",
    "$$\\alpha \\sum_{i=1}^{N}x_{i}+\\beta N=\\sum_{i=1}^{N}y_{i}$$\n",
    "\n",
    "* We now have our equations\n",
    "\n",
    "<br />\n",
    "<br />\n",
    "\n",
    "****\n",
    "\n",
    "* Recall from Algebra: 2 equations and 2 unkowns\n",
    "\n",
    "$$\\alpha \\sum_{i=1}^{N}x_{i}^{2}+\\beta \\sum_{i=1}^{N}x_{i}=\\sum_{i=1}^{N}y_{i}x_{i}$$\n",
    "<br />\n",
    "$$\\alpha \\sum_{i=1}^{N}x_{i}+\\beta N=\\sum_{i=1}^{N}y_{i}$$\n",
    "\n",
    "<br />\n",
    "<br />\n",
    "\n",
    "****\n",
    "\n",
    "* Make is easier to solve by replacing summations with letters\n",
    "\n",
    "$C = \\sum_{i=1}^{N}x_{i}^{2}$\n",
    "<br />\n",
    "<br />\n",
    "$D = \\sum_{i=1}^{N}x_{i}$\n",
    "<br />\n",
    "<br />\n",
    "$E = \\sum_{i=1}^{N}y_{i}x_{i}$\n",
    "<br />\n",
    "<br />\n",
    "$F = \\sum_{i=1}^{N}y_{i}$\n",
    "<br />\n",
    "<br />\n",
    "\n",
    "* Giving us\n",
    "<br />\n",
    "$$\\alpha C+ \\beta D = E$$\n",
    "<br />\n",
    "$$\\alpha D + \\beta N = F$$\n",
    "\n",
    "<br />\n",
    "<br />\n",
    "\n",
    "****\n",
    "\n",
    "* Using either the elmination or subsitution method you should get\n",
    "\n",
    "$$\\alpha = \\frac{EN-FD}{NC-D^{2}}$$\n",
    "<br />\n",
    "<br />\n",
    "$$\\beta = \\frac{ED-FC}{D^{2}-NC}$$\n",
    "\n",
    "<br />\n",
    "<br />\n",
    "\n",
    "****\n",
    "\n",
    "* Plugging back in\n",
    "\n",
    "$$\\alpha=\\frac{N\\sum_{i=1}^{N}y_ix_i-\\sum_{i=1}^{N}x_i\\sum_{i=1}^{N}y_i}{N\\sum_{i=1}^{N}x_i^2-(\\sum_{i=1}^{N}x_i)^2}$$\n",
    "\n",
    "<br />\n",
    "<br />\n",
    "\n",
    "$$\\beta=\\frac{\\sum_{i=1}^{N}x_i\\sum_{i=1}^{N}y_ix_i-\\sum_{i=1}^Ny_i\\sum_{i=1}^Nx_i^2}{(\\sum_{i=1}^Nx_i)^2-N\\sum_{i=1}^Nx_i^2}$$\n",
    "\n",
    "<br />\n",
    "<br />\n",
    "\n",
    "****\n",
    "\n",
    "* Rewrite $\\beta$ to get the same denominator\n",
    "\n",
    "$$\\alpha=\\frac{N\\sum_{i=1}^{N}y_ix_i-\\sum_{i=1}^{N}x_i\\sum_{i=1}^{N}y_i}{N\\sum_{i=1}^{N}x_i^2-(\\sum_{i=1}^{N}x_i)^2}$$\n",
    "\n",
    "<br />\n",
    "<br />\n",
    "\n",
    "$$\\beta=\\frac{\\sum_{i=1}^Ny_i\\sum_{i=1}^Nx_i^2-\\sum_{i=1}^{N}x_i\\sum_{i=1}^{N}y_ix_i}{N\\sum_{i=1}^Nx_i^2-(\\sum_{i=1}^Nx_i)^2}$$\n",
    "\n",
    "<br />\n",
    "<br />\n",
    "\n",
    "****\n",
    "\n",
    "* This is pretty ugly so let's simplify\n",
    "\n",
    "* Recall the definition of a sample mean - denoted by a 'bar'\n",
    "\n",
    "$$\\bar{x}=\\frac{1}{N}\\sum_{i=1}^Nx_i$$\n",
    "\n",
    "* We can also do this when it involves multiple variables insides the sum\n",
    "\n",
    "$$\\bar{xy}=\\frac{1}{N}\\sum_{i=1}^Nx_iy_i$$\n",
    "\n",
    "<br />\n",
    "<br />\n",
    "\n",
    "****\n",
    "\n",
    "* Final Solution\n",
    "\n",
    "* You can see that if we had like 10 features then we'd have to take 10 partial derivatives which would get out of hand real fast\n",
    "\n",
    "$$\\alpha = \\frac{\\bar{xy}-\\bar{x}\\bar{y}}{\\bar{x^2}-\\bar{x}^2}$$\n",
    "\n",
    "<br />\n",
    "<br />\n",
    "\n",
    "$$\\alpha = \\frac{\\bar{y}\\bar{x^2}-\\bar{x}\\bar{xy}}{\\bar{x^2}-\\bar{x}^2}$$\n",
    "\n",
    "<br />\n",
    "<br />\n",
    "\n",
    "****\n",
    "\n",
    "* Note on dot product \n",
    "\n",
    "$$a^Tb=\\sum_{i=1}^Na_ib_i$$\n",
    "\n",
    "* Never do this\n",
    "<br />\n",
    "\n",
    "```python\n",
    "total = 0\n",
    "for i in range(N):\n",
    "    total += a[i]*b[i]\n",
    "```\n",
    "* Instead\n",
    "<br />\n",
    "\n",
    "```python\n",
    "total = a.dot(b) or total = np.dot(a, b)\n",
    "```\n",
    "<br />\n",
    "\n",
    "* Numpy also has mean() and sum() functions wheich we'll find useful\n",
    "\n",
    "<br />\n",
    "<br />\n",
    "\n",
    "****"
   ]
  },
  {
   "cell_type": "code",
   "execution_count": 2,
   "metadata": {},
   "outputs": [],
   "source": [
    "import numpy as np\n",
    "import matplotlib.pyplot as plt"
   ]
  },
  {
   "cell_type": "code",
   "execution_count": 33,
   "metadata": {},
   "outputs": [],
   "source": [
    "# load data\n",
    "\n",
    "X = []\n",
    "Y = []\n",
    "\n",
    "for line in open('data/data_1d.csv'):\n",
    "    x, y = line.split(',')\n",
    "    X.append(float(x))\n",
    "    Y.append(float(y))"
   ]
  },
  {
   "cell_type": "code",
   "execution_count": 34,
   "metadata": {},
   "outputs": [],
   "source": [
    "# lets turn X and Y into numpy arrays\n",
    "\n",
    "Y = np.array(Y)\n",
    "X = np.array(X)\n",
    "\n",
    "#X = X.reshape(len(X), 1)"
   ]
  },
  {
   "cell_type": "markdown",
   "metadata": {},
   "source": [
    "Pay attention to your shapes"
   ]
  },
  {
   "cell_type": "code",
   "execution_count": 35,
   "metadata": {},
   "outputs": [
    {
     "data": {
      "text/plain": [
       "(100,)"
      ]
     },
     "execution_count": 35,
     "metadata": {},
     "output_type": "execute_result"
    }
   ],
   "source": [
    "X.shape"
   ]
  },
  {
   "cell_type": "code",
   "execution_count": 36,
   "metadata": {},
   "outputs": [
    {
     "data": {
      "text/plain": [
       "(100,)"
      ]
     },
     "execution_count": 36,
     "metadata": {},
     "output_type": "execute_result"
    }
   ],
   "source": [
    "Y.shape"
   ]
  },
  {
   "cell_type": "code",
   "execution_count": 37,
   "metadata": {},
   "outputs": [
    {
     "data": {
      "text/plain": [
       "array([197.17963609,  67.59066954,  60.85413282])"
      ]
     },
     "execution_count": 37,
     "metadata": {},
     "output_type": "execute_result"
    }
   ],
   "source": [
    "Y[:3]"
   ]
  },
  {
   "cell_type": "code",
   "execution_count": 38,
   "metadata": {},
   "outputs": [
    {
     "data": {
      "text/plain": [
       "array([95.72416241, 35.75761893, 28.81684742])"
      ]
     },
     "execution_count": 38,
     "metadata": {},
     "output_type": "execute_result"
    }
   ],
   "source": [
    "X[:3]"
   ]
  },
  {
   "cell_type": "code",
   "execution_count": 39,
   "metadata": {},
   "outputs": [
    {
     "data": {
      "image/png": "[encoded data removed]",
      "text/plain": [
       "<Figure size 432x288 with 1 Axes>"
      ]
     },
     "metadata": {
      "needs_background": "light"
     },
     "output_type": "display_data"
    }
   ],
   "source": [
    "# plot data to get idea\n",
    "\n",
    "plt.scatter(X, Y, s=5)\n",
    "plt.show()"
   ]
  },
  {
   "cell_type": "code",
   "execution_count": 40,
   "metadata": {},
   "outputs": [
    {
     "data": {
      "text/plain": [
       "53.037609423246906"
      ]
     },
     "execution_count": 40,
     "metadata": {},
     "output_type": "execute_result"
    }
   ],
   "source": [
    "X.mean()"
   ]
  },
  {
   "cell_type": "code",
   "execution_count": 41,
   "metadata": {},
   "outputs": [
    {
     "data": {
      "text/plain": [
       "5303.76094232469"
      ]
     },
     "execution_count": 41,
     "metadata": {},
     "output_type": "execute_result"
    }
   ],
   "source": [
    "X.sum()"
   ]
  },
  {
   "cell_type": "code",
   "execution_count": 42,
   "metadata": {},
   "outputs": [
    {
     "data": {
      "text/plain": [
       "100"
      ]
     },
     "execution_count": 42,
     "metadata": {},
     "output_type": "execute_result"
    }
   ],
   "source": [
    "len(X)"
   ]
  },
  {
   "cell_type": "code",
   "execution_count": 43,
   "metadata": {},
   "outputs": [
    {
     "data": {
      "text/plain": [
       "352941.79405428586"
      ]
     },
     "execution_count": 43,
     "metadata": {},
     "output_type": "execute_result"
    }
   ],
   "source": [
    "X.dot(X)"
   ]
  },
  {
   "cell_type": "code",
   "execution_count": 44,
   "metadata": {},
   "outputs": [
    {
     "data": {
      "text/plain": [
       "7164299.272099711"
      ]
     },
     "execution_count": 44,
     "metadata": {},
     "output_type": "execute_result"
    }
   ],
   "source": [
    "# First we will find the denominator\n",
    "\n",
    "N = len(X)\n",
    "\n",
    "denominator = (N * X.dot(X)) - sum(X)**2\n",
    "denominator"
   ]
  },
  {
   "cell_type": "code",
   "execution_count": 45,
   "metadata": {},
   "outputs": [],
   "source": [
    "# Find numerators\n",
    "\n",
    "a_numerator = N * X.dot(Y) - sum(X)*sum(Y)\n",
    "\n",
    "b_numerator = sum(Y)*X.dot(X) - sum(X)*X.dot(Y)"
   ]
  },
  {
   "cell_type": "code",
   "execution_count": 46,
   "metadata": {},
   "outputs": [
    {
     "data": {
      "text/plain": [
       "1.9726121674845905"
      ]
     },
     "execution_count": 46,
     "metadata": {},
     "output_type": "execute_result"
    }
   ],
   "source": [
    "a = a_numerator / denominator\n",
    "a"
   ]
  },
  {
   "cell_type": "code",
   "execution_count": 47,
   "metadata": {},
   "outputs": [
    {
     "data": {
      "text/plain": [
       "2.864424075660652"
      ]
     },
     "execution_count": 47,
     "metadata": {},
     "output_type": "execute_result"
    }
   ],
   "source": [
    "b = b_numerator / denominator\n",
    "b"
   ]
  },
  {
   "cell_type": "code",
   "execution_count": 54,
   "metadata": {},
   "outputs": [
    {
     "data": {
      "text/plain": [
       "(1.9726121674845905, 2.864424075660652)"
      ]
     },
     "execution_count": 54,
     "metadata": {},
     "output_type": "execute_result"
    }
   ],
   "source": [
    "# You can think of a, b as your entire weight vector\n",
    "a, b"
   ]
  },
  {
   "cell_type": "code",
   "execution_count": 48,
   "metadata": {},
   "outputs": [],
   "source": [
    "# here we are using something called broadcasting\n",
    "# we are element-wise multiplying a by \n",
    "\n",
    "Yhat = a*X + b"
   ]
  },
  {
   "cell_type": "code",
   "execution_count": 49,
   "metadata": {},
   "outputs": [
    {
     "data": {
      "text/plain": [
       "array([191.69107156,  73.40033825,  59.70888793, 200.04374055,\n",
       "       134.6541465 , 117.70140772, 109.03253413, 163.23006493,\n",
       "       161.95302519, 157.22687651,  36.12953718, 181.97592734,\n",
       "       108.02977779, 144.14051872,  39.18138143, 115.54860556,\n",
       "       162.91168877, 164.64871484,  75.70294737,  90.81753142,\n",
       "        55.45890889, 148.96605693,  37.85970159,  16.31713371,\n",
       "        54.77836881, 166.20483683,  80.67714285, 154.21924834,\n",
       "        86.13993556, 188.99729889,  85.99382217,   9.19897215,\n",
       "        16.44718721,  30.23594106, 127.72565267, 122.19270381,\n",
       "       159.89872354, 167.46778996, 111.14518947, 125.25700848,\n",
       "       134.346438  , 123.82463362,  96.20755007, 162.94384962,\n",
       "       182.41456945,  36.09004217, 153.78195174, 144.62758755,\n",
       "        22.29088522,  73.46364625,  73.65889458, 182.03569977,\n",
       "        17.18967731,  72.61458615, 158.85712223,  45.38103823,\n",
       "       159.64059254,  99.06470845, 110.95146298, 175.47494321,\n",
       "        79.69595275,  21.39832425,  24.80221251,  93.87198766,\n",
       "       171.91250045, 101.71260448,  24.7084738 ,  46.71190545,\n",
       "       136.12217728,  28.0885821 ,  95.50912276,  12.42871435,\n",
       "        82.82885829,  54.80421236,  79.56890841, 187.97093041,\n",
       "       121.38223758, 101.71984163,  37.81651826, 170.68052043,\n",
       "        84.37573694,  72.79657722, 148.87919971, 181.42472732,\n",
       "        70.99962607, 189.39790936, 107.32660238, 160.88335524,\n",
       "       101.1454019 , 124.73580715, 121.78553496, 155.38815834,\n",
       "        33.72862173, 143.98631828, 126.05878448, 158.81881137,\n",
       "       145.28247263, 143.74395344,  64.03279987,  82.41056643])"
      ]
     },
     "execution_count": 49,
     "metadata": {},
     "output_type": "execute_result"
    }
   ],
   "source": [
    "Yhat"
   ]
  },
  {
   "cell_type": "code",
   "execution_count": 50,
   "metadata": {},
   "outputs": [
    {
     "data": {
      "image/png": "[encoded data removed]",
      "text/plain": [
       "<Figure size 432x288 with 1 Axes>"
      ]
     },
     "metadata": {
      "needs_background": "light"
     },
     "output_type": "display_data"
    }
   ],
   "source": [
    "plt.scatter(X, Y, s=10)\n",
    "plt.plot(X, Yhat)\n",
    "plt.show()"
   ]
  },
  {
   "cell_type": "markdown",
   "metadata": {},
   "source": [
    "## Determine how well your model performed\n",
    "\n",
    "We need some numerical measure to see how well our model performed\n",
    "\n",
    "For this we can use $R^2$ (R-Squared)\n",
    "\n",
    "We ususally use this for any regression not just Linear Regression\n",
    "\n",
    "The definition for R-Squared is the following:\n",
    "\n",
    "$$R^2 = 1 - \\frac{SS_{res}}{SS_{tot}}$$\n",
    "\n",
    "where: \n",
    "\n",
    "$SS_{res}$ is the sum of squared residual \n",
    "\n",
    "and\n",
    "\n",
    "$SS_{tot}$ is the sum of squared total\n",
    "\n",
    "These are defined as:\n",
    "\n",
    "$$SS_{res} = \\sum^N_{i=1}(y_i - \\hat{y_i})^2$$\n",
    "\n",
    "<br />\n",
    "\n",
    "$$SS_{tot} = \\sum^N_{i=1}(y_i - \\bar{y})^2$$\n",
    "\n",
    "$R^2 = 1$ is a perfect model\n",
    "\n",
    "$R^2 = 0$ is basically the average (50%)\n",
    "\n",
    "$R^2 = -$ is worse than just computing the average"
   ]
  },
  {
   "cell_type": "markdown",
   "metadata": {},
   "source": [
    "## R-Squared"
   ]
  },
  {
   "cell_type": "code",
   "execution_count": 51,
   "metadata": {},
   "outputs": [
    {
     "data": {
      "text/plain": [
       "2479.6099146071424"
      ]
     },
     "execution_count": 51,
     "metadata": {},
     "output_type": "execute_result"
    }
   ],
   "source": [
    "SSres = sum((Y-Yhat)**2)\n",
    "SSres"
   ]
  },
  {
   "cell_type": "code",
   "execution_count": 52,
   "metadata": {},
   "outputs": [
    {
     "data": {
      "text/plain": [
       "281256.7345902546"
      ]
     },
     "execution_count": 52,
     "metadata": {},
     "output_type": "execute_result"
    }
   ],
   "source": [
    "SStot = sum((Y-Y.mean())**2)\n",
    "SStot"
   ]
  },
  {
   "cell_type": "code",
   "execution_count": 53,
   "metadata": {},
   "outputs": [
    {
     "data": {
      "text/plain": [
       "0.9911838202977805"
      ]
     },
     "execution_count": 53,
     "metadata": {},
     "output_type": "execute_result"
    }
   ],
   "source": [
    "R2 = 1 - SSres/SStot\n",
    "R2"
   ]
  },
  {
   "cell_type": "code",
   "execution_count": null,
   "metadata": {},
   "outputs": [],
   "source": []
  }
 ],
 "metadata": {
  "kernelspec": {
   "display_name": "Python 3",
   "language": "python",
   "name": "python3"
  },
  "language_info": {
   "codemirror_mode": {
    "name": "ipython",
    "version": 3
   },
   "file_extension": ".py",
   "mimetype": "text/x-python",
   "name": "python",
   "nbconvert_exporter": "python",
   "pygments_lexer": "ipython3",
   "version": "3.7.3"
  }
 },
 "nbformat": 4,
 "nbformat_minor": 4
}
