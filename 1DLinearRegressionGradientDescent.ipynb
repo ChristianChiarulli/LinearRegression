{
 "cells": [
  {
   "cell_type": "markdown",
   "metadata": {},
   "source": [
    "# 1D Linear Regression Using Gradient Descent\n",
    "\n",
    "Here we will introduce 1D Linear Regression and compute the weights using Gradient Descent.\n",
    "\n",
    "This notebook will give you an algorithm that will work for n number of input features but first we'll test it on 1D data.\n",
    "\n",
    "## Process\n",
    "\n",
    "* Loading the data\n",
    "* Exploring the data\n",
    "* Adding bias to our input \n",
    "* Solve for weights using Gradient Descent\n",
    "* Fit a line using weights\n",
    "* Make a Prediction\n",
    "\n",
    "## Equations\n",
    "\n",
    "$$ J(\\theta) = \\frac{1}{2m} \\sum_{i=1}^m \\left( h_{\\theta}(x^{(i)}) - y^{(i)}\\right)^2$$\n",
    "\n",
    "the objective is to minimize the cost function $J(\\theta)$\n",
    "\n",
    "where $\\theta$ is computed using gradient descent\n",
    "\n",
    "and the hypothesis $h_\\theta(x)$ is given by the linear model\n",
    "\n",
    "$$ h_\\theta(x) = \\theta^T x = x_0\\theta_0 + \\theta_1 x_1$$\n",
    "\n",
    "the weights of the model are the $\\theta_{j}$ values and are adjusted to minimize $J(\\theta)$\n",
    "\n",
    "one way to do this is to use batch gradient descent where each iteration performs an update\n",
    "\n",
    "$$ \\theta_{j} := \\theta_{j} - \\alpha \\frac{1}{m} \\sum_{i=1}^m \\left( h_{\\theta}(x^{(i)}) - y^{(i)}\\right)x_j^{(i)} $$"
   ]
  },
  {
   "cell_type": "code",
   "execution_count": 4,
   "metadata": {},
   "outputs": [],
   "source": [
    "import os\n",
    "\n",
    "import numpy as np\n",
    "\n",
    "import matplotlib.pyplot as plt\n",
    "from mpl_toolkits.mplot3d import Axes3D\n",
    "\n",
    "%matplotlib inline"
   ]
  },
  {
   "cell_type": "markdown",
   "metadata": {},
   "source": [
    "## Loading the data"
   ]
  },
  {
   "cell_type": "code",
   "execution_count": 20,
   "metadata": {},
   "outputs": [
    {
     "name": "stdout",
     "output_type": "stream",
     "text": [
      "Shape of data (97, 2)\n",
      "Number of samples 97\n",
      "Number of features 1\n"
     ]
    }
   ],
   "source": [
    "data = np.loadtxt('data/population_vs_profit.txt', delimiter=',')\n",
    "m = len(data)\n",
    "n = len(data[0]) - 1\n",
    "print(\"Shape of data\", data.shape)\n",
    "print(\"Number of samples\", m)\n",
    "print(\"Number of features\", n)\n",
    "X, y = data[:, n-1], data[:, n]"
   ]
  },
  {
   "cell_type": "markdown",
   "metadata": {},
   "source": [
    "## Exploring the data\n",
    "\n",
    "### Plotting the data"
   ]
  },
  {
   "cell_type": "code",
   "execution_count": 21,
   "metadata": {},
   "outputs": [
    {
     "data": {
      "image/png": "[encoded data removed]",
      "text/plain": [
       "<Figure size 432x288 with 1 Axes>"
      ]
     },
     "metadata": {
      "needs_background": "light"
     },
     "output_type": "display_data"
    }
   ],
   "source": [
    "plt.scatter(X, y)\n",
    "plt.ylabel('Profit in $10,000')\n",
    "plt.xlabel('Population in 10,000s');"
   ]
  },
  {
   "cell_type": "markdown",
   "metadata": {},
   "source": [
    "### Visualizing the shape of our data\n",
    "\n",
    "$X$ is a feature matrix that is $m$ $x$ $(n + 1)$ where:\n",
    "\n",
    "* $m =$ number of training examples\n",
    "* $n =$ number of features\n",
    "\n",
    "$\\vec{y}$ is our ouput vector that is $m$ $x$ $1$"
   ]
  },
  {
   "cell_type": "code",
   "execution_count": 22,
   "metadata": {},
   "outputs": [
    {
     "name": "stdout",
     "output_type": "stream",
     "text": [
      "The shape of X is (97,)\n",
      "The shape of y is (97,)\n"
     ]
    }
   ],
   "source": [
    "print(\"The shape of X is\", X.shape)\n",
    "print(\"The shape of y is\", y.shape)"
   ]
  },
  {
   "cell_type": "markdown",
   "metadata": {},
   "source": [
    "## Adding bias to our input\n",
    "\n",
    "This is the process of adding the feature $x_0$ to\n",
    "\n",
    "$$ h_\\theta(x) = \\theta_0 + \\theta_1 x_1 $$\n",
    "\n",
    "To do this we add a column of 1's to our feature matrix and call it $x_0$"
   ]
  },
  {
   "cell_type": "code",
   "execution_count": 23,
   "metadata": {},
   "outputs": [
    {
     "name": "stdout",
     "output_type": "stream",
     "text": [
      "Shape of X is (97, 2)\n",
      "Example feature vector [1.     6.1101]\n"
     ]
    }
   ],
   "source": [
    "# here we add a column of 1's for our bias we'll use stack for numpy arrays with shape (m,)\n",
    "# the numpy function stack joins arrays along a given axis \n",
    "# the first axis (axis=0) refers to rows (training examples) and the second axis (axis=1) refers to columns (features).\n",
    "X = np.stack([np.ones(m), X], axis=1)\n",
    "\n",
    "print(\"Shape of X is\", X.shape)\n",
    "print(\"Example feature vector\", X[0])"
   ]
  },
  {
   "cell_type": "markdown",
   "metadata": {},
   "source": [
    "## Computing the cost function $J(\\theta)$"
   ]
  },
  {
   "cell_type": "code",
   "execution_count": 24,
   "metadata": {},
   "outputs": [
    {
     "ename": "NameError",
     "evalue": "name 'theta' is not defined",
     "output_type": "error",
     "traceback": [
      "\u001b[0;31m---------------------------------------------------------------------------\u001b[0m",
      "\u001b[0;31mNameError\u001b[0m                                 Traceback (most recent call last)",
      "\u001b[0;32m<ipython-input-24-5d14a3ef3a20>\u001b[0m in \u001b[0;36m<module>\u001b[0;34m\u001b[0m\n\u001b[0;32m----> 1\u001b[0;31m \u001b[0mh\u001b[0m \u001b[0;34m=\u001b[0m \u001b[0mX\u001b[0m\u001b[0;34m@\u001b[0m\u001b[0mtheta\u001b[0m\u001b[0;34m\u001b[0m\u001b[0;34m\u001b[0m\u001b[0m\n\u001b[0m\u001b[1;32m      2\u001b[0m \u001b[0mJ\u001b[0m \u001b[0;34m=\u001b[0m \u001b[0;36m1\u001b[0m\u001b[0;34m/\u001b[0m\u001b[0;34m(\u001b[0m\u001b[0;36m2\u001b[0m\u001b[0;34m*\u001b[0m\u001b[0mm\u001b[0m\u001b[0;34m)\u001b[0m\u001b[0;34m*\u001b[0m\u001b[0msum\u001b[0m\u001b[0;34m(\u001b[0m\u001b[0;34m(\u001b[0m\u001b[0mh\u001b[0m \u001b[0;34m-\u001b[0m \u001b[0my\u001b[0m\u001b[0;34m)\u001b[0m\u001b[0;34m**\u001b[0m\u001b[0;36m2\u001b[0m\u001b[0;34m)\u001b[0m\u001b[0;34m\u001b[0m\u001b[0;34m\u001b[0m\u001b[0m\n",
      "\u001b[0;31mNameError\u001b[0m: name 'theta' is not defined"
     ]
    }
   ],
   "source": [
    "theta\n",
    "h = X@theta\n",
    "J = 1/(2*m)*sum((h - y)**2)"
   ]
  },
  {
   "cell_type": "code",
   "execution_count": null,
   "metadata": {},
   "outputs": [],
   "source": []
  }
 ],
 "metadata": {
  "kernelspec": {
   "display_name": "Python 3",
   "language": "python",
   "name": "python3"
  },
  "language_info": {
   "codemirror_mode": {
    "name": "ipython",
    "version": 3
   },
   "file_extension": ".py",
   "mimetype": "text/x-python",
   "name": "python",
   "nbconvert_exporter": "python",
   "pygments_lexer": "ipython3",
   "version": "3.7.3"
  }
 },
 "nbformat": 4,
 "nbformat_minor": 4
}
