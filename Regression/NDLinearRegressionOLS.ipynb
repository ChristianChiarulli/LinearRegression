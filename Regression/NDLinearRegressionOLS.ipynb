{
 "cells": [
  {
   "cell_type": "markdown",
   "metadata": {},
   "source": [
    "# N-D Linear Regression\n",
    "\n",
    "Get the data [here](https://college.cengage.com/mathematics/brase/understandable_statistics/7e/students/datasets/mlr/frames/frame.html)\n",
    "\n",
    "The data represents: Test Scores for General Psychology\n",
    "\n",
    "The data (X1, X2, X3, X4) are for each student.\n",
    "\n",
    "* X1 = score on exam #1\n",
    "\n",
    "* X2 = score on exam #2\n",
    "\n",
    "* X3 = score on exam #3\n",
    "\n",
    "* X4 = score on final exam\n",
    "\n",
    "We will be holding X4 as our y value\n",
    "\n",
    "## Process\n",
    "\n",
    "* Loading the data\n",
    "* Exploring the data\n",
    "* Adding bias to our input \n",
    "* Solve for weights using OLS\n",
    "* Compute hypothesis\n",
    "* Make a Prediction\n",
    "* Determine Model Performance\n",
    "\n",
    "## Equations\n",
    "\n",
    "The hypothesis $h_\\theta(x)$ is given by the linear model\n",
    "\n",
    "$$ h_\\theta(x) = \\theta^Tx = x_0\\theta_0 + \\theta_1 x_1$$\n",
    "\n",
    "where x is a feature\n",
    "\n",
    "where $\\theta$ is computed using OLS\n",
    "\n",
    "$$ \\theta = \\left( X^T X\\right)^{-1} X^T\\vec{y}$$"
   ]
  },
  {
   "cell_type": "code",
   "execution_count": 1,
   "metadata": {},
   "outputs": [],
   "source": [
    "%matplotlib inline\n",
    "\n",
    "import os\n",
    "import numpy as np\n",
    "import pandas as pd\n",
    "\n",
    "import matplotlib.pyplot as plt"
   ]
  },
  {
   "cell_type": "markdown",
   "metadata": {},
   "source": [
    "## Loading the Data"
   ]
  },
  {
   "cell_type": "code",
   "execution_count": 2,
   "metadata": {},
   "outputs": [
    {
     "name": "stdout",
     "output_type": "stream",
     "text": [
      "*** No CODEPAGE record, no encoding_override: will use 'ascii'\n"
     ]
    }
   ],
   "source": [
    "# pip install xlrd\n",
    "df = pd.read_excel('data/mlr03.xls');"
   ]
  },
  {
   "cell_type": "code",
   "execution_count": 3,
   "metadata": {},
   "outputs": [
    {
     "name": "stdout",
     "output_type": "stream",
     "text": [
      "Shape of data (25, 4)\n",
      "Number of features 3\n",
      "Number of samples 25\n"
     ]
    }
   ],
   "source": [
    "X = df.values\n",
    "n = len(X[1]) -1\n",
    "m = len(X)\n",
    "print(\"Shape of data\", X.shape)\n",
    "print(\"Number of features\", n)\n",
    "print(\"Number of samples\", m)"
   ]
  },
  {
   "cell_type": "markdown",
   "metadata": {},
   "source": [
    "## Exploring the data\n",
    "\n",
    "You can use the head function to get the first 5 entries in a data frame"
   ]
  },
  {
   "cell_type": "code",
   "execution_count": 4,
   "metadata": {},
   "outputs": [
    {
     "data": {
      "text/html": [
       "<div>\n",
       "<style scoped>\n",
       "    .dataframe tbody tr th:only-of-type {\n",
       "        vertical-align: middle;\n",
       "    }\n",
       "\n",
       "    .dataframe tbody tr th {\n",
       "        vertical-align: top;\n",
       "    }\n",
       "\n",
       "    .dataframe thead th {\n",
       "        text-align: right;\n",
       "    }\n",
       "</style>\n",
       "<table border=\"1\" class=\"dataframe\">\n",
       "  <thead>\n",
       "    <tr style=\"text-align: right;\">\n",
       "      <th></th>\n",
       "      <th>EXAM1</th>\n",
       "      <th>EXAM2</th>\n",
       "      <th>EXAM3</th>\n",
       "      <th>FINAL</th>\n",
       "    </tr>\n",
       "  </thead>\n",
       "  <tbody>\n",
       "    <tr>\n",
       "      <th>0</th>\n",
       "      <td>73</td>\n",
       "      <td>80</td>\n",
       "      <td>75</td>\n",
       "      <td>152</td>\n",
       "    </tr>\n",
       "    <tr>\n",
       "      <th>1</th>\n",
       "      <td>93</td>\n",
       "      <td>88</td>\n",
       "      <td>93</td>\n",
       "      <td>185</td>\n",
       "    </tr>\n",
       "    <tr>\n",
       "      <th>2</th>\n",
       "      <td>89</td>\n",
       "      <td>91</td>\n",
       "      <td>90</td>\n",
       "      <td>180</td>\n",
       "    </tr>\n",
       "    <tr>\n",
       "      <th>3</th>\n",
       "      <td>96</td>\n",
       "      <td>98</td>\n",
       "      <td>100</td>\n",
       "      <td>196</td>\n",
       "    </tr>\n",
       "    <tr>\n",
       "      <th>4</th>\n",
       "      <td>73</td>\n",
       "      <td>66</td>\n",
       "      <td>70</td>\n",
       "      <td>142</td>\n",
       "    </tr>\n",
       "  </tbody>\n",
       "</table>\n",
       "</div>"
      ],
      "text/plain": [
       "   EXAM1  EXAM2  EXAM3  FINAL\n",
       "0     73     80     75    152\n",
       "1     93     88     93    185\n",
       "2     89     91     90    180\n",
       "3     96     98    100    196\n",
       "4     73     66     70    142"
      ]
     },
     "execution_count": 4,
     "metadata": {},
     "output_type": "execute_result"
    }
   ],
   "source": [
    "df.head()"
   ]
  },
  {
   "cell_type": "markdown",
   "metadata": {},
   "source": [
    "### Is our data linear?\n",
    "\n",
    "we can show a simple 2D plot for each of our features to get a general idea if our features have a linear relationship to our output"
   ]
  },
  {
   "cell_type": "code",
   "execution_count": 5,
   "metadata": {},
   "outputs": [
    {
     "data": {
      "image/png": "[encoded data removed]",
      "text/plain": [
       "<Figure size 1656x504 with 3 Axes>"
      ]
     },
     "metadata": {
      "needs_background": "light"
     },
     "output_type": "display_data"
    }
   ],
   "source": [
    "fig, axarr = plt.subplots(1, 3, figsize=(23, 7))\n",
    "\n",
    "# set index to loop through plots\n",
    "i = 0\n",
    "\n",
    "\n",
    "for i in range(3):\n",
    "    axarr[i].scatter(X[:, i], X[:, 3])"
   ]
  },
  {
   "cell_type": "markdown",
   "metadata": {},
   "source": [
    "Our data seems to be pretty linear so Linear Regression seems like a good option"
   ]
  },
  {
   "cell_type": "markdown",
   "metadata": {},
   "source": [
    "### Visualizing the shape of our data\n",
    "\n",
    "X is a feature matrix that is m x n where:\n",
    "\n",
    "* m = number of samples\n",
    "* n = number of features\n",
    "\n",
    "y is our ouput vector that is m x 1"
   ]
  },
  {
   "cell_type": "code",
   "execution_count": 6,
   "metadata": {},
   "outputs": [],
   "source": [
    "# .values will transform the dataframe into a more familiar numpy array\n",
    "# We can get our data into a numpy array by getting the columns by their keys\n",
    "# Also we'll add our bias here as well\n",
    "y = df['FINAL'].values\n",
    "X = df[['EXAM1', 'EXAM2', 'EXAM3']].values"
   ]
  },
  {
   "cell_type": "code",
   "execution_count": 7,
   "metadata": {},
   "outputs": [
    {
     "name": "stdout",
     "output_type": "stream",
     "text": [
      "Normalized features [79.04 79.48 81.48]\n",
      "Standard deviation [12.0315585  12.25110607 11.52777515]\n",
      "Normalized X matrix sample [-0.5020131   0.04244515 -0.56212061]\n"
     ]
    }
   ],
   "source": [
    "# Normalize Features\n",
    "\n",
    "def normalize(X):\n",
    "\n",
    "    mu = np.mean(X, axis=0)\n",
    "    sigma = np.std(X, axis=0)\n",
    "    X_norm = (X - mu) / sigma\n",
    "    \n",
    "    return mu, sigma, X_norm\n",
    "\n",
    "mu, sigma, X = normalize(X)\n",
    "print(\"Normalized features\", mu)\n",
    "print(\"Standard deviation\", sigma)\n",
    "print(\"Normalized X matrix sample\", X[0])"
   ]
  },
  {
   "cell_type": "code",
   "execution_count": 8,
   "metadata": {},
   "outputs": [
    {
     "name": "stdout",
     "output_type": "stream",
     "text": [
      "X with bias [ 1.         -0.5020131   0.04244515 -0.56212061]\n"
     ]
    }
   ],
   "source": [
    "# After normalizing we add our bias\n",
    "X = np.concatenate([np.ones((m, 1)), X], axis=1)\n",
    "print(\"X with bias\", X[0])"
   ]
  },
  {
   "cell_type": "code",
   "execution_count": 9,
   "metadata": {},
   "outputs": [
    {
     "name": "stdout",
     "output_type": "stream",
     "text": [
      "The shape of X is (25, 4)\n",
      "The shape of y is (25,)\n",
      "Example feature vector [ 1.         -0.5020131   0.04244515 -0.56212061]\n"
     ]
    }
   ],
   "source": [
    "print(\"The shape of X is\", X.shape)\n",
    "print(\"The shape of y is\", y.shape)\n",
    "print(\"Example feature vector\", X[0])"
   ]
  },
  {
   "cell_type": "markdown",
   "metadata": {},
   "source": [
    "## Solve for weights using OLS\n",
    "\n",
    "Basically we just need to transform the following function into python code\n",
    "\n",
    "$$ \\theta = \\left( X^T X\\right)^{-1} X^T\\vec{y}$$\n",
    "\n",
    "The first value in $\\theta$ is our $x_0$"
   ]
  },
  {
   "cell_type": "code",
   "execution_count": 10,
   "metadata": {},
   "outputs": [
    {
     "name": "stdout",
     "output_type": "stream",
     "text": [
      "Shape of theta is (4,)\n",
      "theta is [162.04         4.2824915    6.64645485  13.45803443]\n"
     ]
    }
   ],
   "source": [
    "theta = np.linalg.pinv(X.T@X)@X.T@y\n",
    "print(\"Shape of theta is\", theta.shape)\n",
    "print(\"theta is\", theta)"
   ]
  },
  {
   "cell_type": "markdown",
   "metadata": {},
   "source": [
    "## Compute hypothesis\n",
    "\n",
    "We'll take our input vector X and pretend we dont know our output vector y\n",
    "\n",
    "then using the weights we found we'll try and predict what y would be at any point"
   ]
  },
  {
   "cell_type": "code",
   "execution_count": 11,
   "metadata": {},
   "outputs": [],
   "source": [
    "h = X@theta"
   ]
  },
  {
   "cell_type": "code",
   "execution_count": 12,
   "metadata": {},
   "outputs": [
    {
     "data": {
      "text/plain": [
       "(25,)"
      ]
     },
     "execution_count": 12,
     "metadata": {},
     "output_type": "execute_result"
    }
   ],
   "source": [
    "h.shape"
   ]
  },
  {
   "cell_type": "markdown",
   "metadata": {},
   "source": [
    "## Making a prediction\n",
    "\n",
    "now we can create our own input vector and get an estimated result"
   ]
  },
  {
   "cell_type": "code",
   "execution_count": 15,
   "metadata": {},
   "outputs": [
    {
     "name": "stdout",
     "output_type": "stream",
     "text": [
      "Input vector [-1.38873015  0.46291005  0.9258201 ]\n",
      "Input vector with bias [ 1.         -1.38873015  0.46291005  0.9258201 ]\n",
      "theta [162.04         4.2824915    6.64645485  13.45803443]\n",
      "Predicted Final Exam Score 171.6292044598266\n"
     ]
    }
   ],
   "source": [
    "# exam scores 70, 90, 95\n",
    "input_vec = [70, 90, 95]\n",
    "\n",
    "mu, sigma, input_vec = normalize(input_vec)\n",
    "\n",
    "# add a bias since all inputs must begin with 1\n",
    "input_vec_bias = np.append(1, input_vec)\n",
    "\n",
    "\n",
    "\n",
    "# make a prediction\n",
    "prediction = input_vec_bias@theta\n",
    "\n",
    "print(\"Input vector\", input_vec)\n",
    "print(\"Input vector with bias\", input_vec_bias)\n",
    "print(\"theta\", theta)\n",
    "print(\"Predicted Final Exam Score\", prediction)"
   ]
  },
  {
   "cell_type": "markdown",
   "metadata": {},
   "source": [
    "## Determine how well your model performed\n",
    "\n",
    "We need some numerical measure to see how well our model performed\n",
    "\n",
    "For this we can use $R^2$ (R-Squared)\n",
    "\n",
    "We ususally use this for any regression not just Linear Regression\n",
    "\n",
    "The definition for R-Squared is the following:\n",
    "\n",
    "$$R^2 = 1 - \\frac{SS_{res}}{SS_{tot}}$$\n",
    "\n",
    "where: \n",
    "\n",
    "$SS_{res}$ is the sum of squared residual \n",
    "\n",
    "and\n",
    "\n",
    "$SS_{tot}$ is the sum of squared total\n",
    "\n",
    "These are defined as:\n",
    "\n",
    "$$SS_{res} = \\sum^N_{i=1}(y_i - \\hat{y_i})^2$$\n",
    "\n",
    "<br />\n",
    "\n",
    "$$SS_{tot} = \\sum^N_{i=1}(y_i - \\bar{y})^2$$\n",
    "\n",
    "$R^2 = 1$ is a perfect model\n",
    "\n",
    "$R^2 = 0$ is basically the average (50%)\n",
    "\n",
    "$R^2 = -$ is worse than just computing the average"
   ]
  },
  {
   "cell_type": "code",
   "execution_count": 83,
   "metadata": {},
   "outputs": [
    {
     "name": "stdout",
     "output_type": "stream",
     "text": [
      "SSres is:  143.44517860350408\n",
      "SStot is: 13874.960000000005\n",
      "R-squared is:  0.9896615789448399\n"
     ]
    }
   ],
   "source": [
    "SSres = sum((y-h)**2)\n",
    "\n",
    "SStot = sum((y-y.mean())**2)\n",
    "\n",
    "R2 = 1 - SSres/SStot\n",
    "\n",
    "print('SSres is: ', SSres)\n",
    "print('SStot is:', SStot)\n",
    "print('R-squared is: ', R2)"
   ]
  },
  {
   "cell_type": "markdown",
   "metadata": {},
   "source": [
    "## Did adding extra features help?\n",
    "\n",
    "Here we will check a few other combinations of X to see if they do better or worse\n",
    "\n",
    "But this is kind of a trick question\n",
    "\n",
    "A better R-squared does not necessarily imply a better model\n",
    "\n",
    "If you are familiar with overfitting then you see where I'm going with this\n",
    "\n",
    "This series of notebooks is more concerned with introducing concepts such as:\n",
    "\n",
    "* OLS vs Gradient Descent with an emphasis on getting you familiar with the latter\n",
    "* Matrix multiplication\n",
    "* Data structuring\n",
    "* Minimizing a cost function\n",
    "* The gradient Descent Algorithm\n",
    "\n",
    "For a good survey on common pitfalls concerning linear regression I recommend reading this [article](https://www.clockbackward.com/2009/06/18/ordinary-least-squares-linear-regression-flaws-problems-and-pitfalls/) "
   ]
  },
  {
   "cell_type": "code",
   "execution_count": 16,
   "metadata": {},
   "outputs": [],
   "source": [
    "X1 = df[['EXAM1']].values\n",
    "X1 = np.concatenate([np.ones((m, 1)), X1], axis=1)\n",
    "\n",
    "X2 = df[['EXAM1', 'EXAM2']].values\n",
    "X2 = np.concatenate([np.ones((m, 1)), X2], axis=1)\n",
    "\n",
    "X3 = df[['EXAM2', 'EXAM3' ]].values\n",
    "X3 = np.concatenate([np.ones((m, 1)), X3], axis=1)\n"
   ]
  },
  {
   "cell_type": "code",
   "execution_count": 17,
   "metadata": {},
   "outputs": [
    {
     "name": "stdout",
     "output_type": "stream",
     "text": [
      "R-squared is: 0.8950500188020498\n",
      "R-squared is: 0.9264328825615485\n",
      "R-squared is: 0.9854287930443467\n"
     ]
    }
   ],
   "source": [
    "test = [X1, X2, X3]\n",
    "\n",
    "for X in test:\n",
    "    \n",
    "    theta = np.linalg.pinv(X.T@X)@X.T@y\n",
    "    h = X@theta\n",
    "    SSres = sum((y-h)**2)\n",
    "    SStot = sum((y-y.mean())**2)\n",
    "    R2 = 1 - SSres/SStot\n",
    "    print('R-squared is:', R2)"
   ]
  },
  {
   "cell_type": "code",
   "execution_count": null,
   "metadata": {},
   "outputs": [],
   "source": []
  }
 ],
 "metadata": {
  "kernelspec": {
   "display_name": "Python 3",
   "language": "python",
   "name": "python3"
  },
  "language_info": {
   "codemirror_mode": {
    "name": "ipython",
    "version": 3
   },
   "file_extension": ".py",
   "mimetype": "text/x-python",
   "name": "python",
   "nbconvert_exporter": "python",
   "pygments_lexer": "ipython3",
   "version": "3.7.3"
  }
 },
 "nbformat": 4,
 "nbformat_minor": 4
}
