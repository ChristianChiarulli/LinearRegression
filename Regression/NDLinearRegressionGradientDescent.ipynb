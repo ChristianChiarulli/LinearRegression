{
 "cells": [
  {
   "cell_type": "markdown",
   "metadata": {},
   "source": [
    "# N-D Linear Regression\n",
    "\n",
    "Get the data [here](https://college.cengage.com/mathematics/brase/understandable_statistics/7e/students/datasets/mlr/frames/frame.html)\n",
    "\n",
    "The data represents: Test Scores for General Psychology\n",
    "\n",
    "The data (X1, X2, X3, X4) are for each student.\n",
    "\n",
    "* X1 = score on exam #1\n",
    "\n",
    "* X2 = score on exam #2\n",
    "\n",
    "* X3 = score on exam #3\n",
    "\n",
    "* X4 = score on final exam\n",
    "\n",
    "We will be holding X4 as our y value\n",
    "\n",
    "## Process\n",
    "\n",
    "* Loading the data\n",
    "* Exploring the data\n",
    "* Normalizing the data\n",
    "* Adding bias to our input \n",
    "* Computing the cost function $J(\\theta)$\n",
    "* Implementing Gradient Descent\n",
    "* Training your model\n",
    "* Making a Prediction\n",
    "* Determine how well the model performed\n",
    "\n",
    "## Equations\n",
    "The objective of linear regression is to minimize the cost function\n",
    "\n",
    "$$ J(\\theta) = \\frac{1}{2m} \\sum_{i=1}^m \\left( h_{\\theta}(x^{(i)}) - y^{(i)}\\right)^2$$\n",
    "\n",
    "where $m$ is the number of training examples,\n",
    "\n",
    "$y^{(i)}$ is the label or output value from the dataset for a specific row which is determined by the index $i$,\n",
    "\n",
    "$x^{(i)}$ is a specific row of the feature matrix which is determined once again by the index $i$,\n",
    "\n",
    "$h_\\theta(x)$ is the hypothesis which is given by the linear model\n",
    "\n",
    "$$ h_\\theta(x) = \\theta^T x = \\theta_0x_0 + \\theta_1 x_1$$\n",
    "\n",
    "where $\\theta$ is a column vector of weights, i.e.,\n",
    "$$ \\theta = \\begin{bmatrix} \\theta_0 \\\\ \\theta_1 \\\\ \\theta_2 \\\\ \\vdots \\\\ \\theta_n \\end{bmatrix} $$\n",
    "\n",
    "These weights are estimated using the gradient descent algorithm specifically the batch gradient descent algorithm which is a procedure of simultaneously updating the values of $\\theta_j$, i.e.,\n",
    "\n",
    "$$ \\theta_j := \\theta_j - \\alpha \\frac{1}{m} \\sum_{i=1}^m \\left( h_\\theta(x^{(i)}) - y^{(i)}\\right)x_j^{(i)} $$ \n",
    "\n",
    "where $j = 0, 1, ..., n$ represents the feature index number with $n$ representing the number of features,\n",
    "\n",
    "$\\alpha$ represents the learning rate,\n",
    "\n",
    "$x_j^{(i)}$ represents a value in the feature matrix for a specific row which is determined by the index $i$ and the value in the specified row is determined by the feature index $j$, and\n",
    "\n",
    "$:=$ means to assign the value computed on the right-hand side to the variable on the left-hand side.\n",
    "\n",
    "Note (1): As long as the learning rate $\\alpha$ is not too large with each step of gradient descent, the weights $\\theta_j$ will become closer to the optimal values that will achieve the lowest cost $J(\\theta)$.\n",
    "\n",
    "If $\\alpha$ is too large this can cause gradient descent to diverge which means a local minimum or global minimum will not be found, and the smaller $\\alpha$ is the longer it will take gradient descent to find the minimum.\n",
    "\n",
    "So, you can think of alpha as the size of the step that is being taken with each iteration."
   ]
  },
  {
   "cell_type": "code",
   "execution_count": 20,
   "metadata": {},
   "outputs": [],
   "source": [
    "%matplotlib inline\n",
    "\n",
    "import os\n",
    "import numpy as np\n",
    "import pandas as pd\n",
    "\n",
    "import matplotlib.pyplot as plt"
   ]
  },
  {
   "cell_type": "markdown",
   "metadata": {},
   "source": [
    "## Loading the Data"
   ]
  },
  {
   "cell_type": "code",
   "execution_count": 21,
   "metadata": {},
   "outputs": [
    {
     "name": "stdout",
     "output_type": "stream",
     "text": [
      "*** No CODEPAGE record, no encoding_override: will use 'ascii'\n"
     ]
    }
   ],
   "source": [
    "# pip install xlrd\n",
    "df = pd.read_excel('data/mlr03.xls');"
   ]
  },
  {
   "cell_type": "code",
   "execution_count": 22,
   "metadata": {},
   "outputs": [
    {
     "name": "stdout",
     "output_type": "stream",
     "text": [
      "Shape of data (25, 4)\n",
      "Number of features 3\n",
      "Number of samples 25\n"
     ]
    }
   ],
   "source": [
    "X = df.values\n",
    "n = len(X[1]) -1\n",
    "m = len(X)\n",
    "print(\"Shape of data\", X.shape)\n",
    "print(\"Number of features\", n)\n",
    "print(\"Number of samples\", m)"
   ]
  },
  {
   "cell_type": "markdown",
   "metadata": {},
   "source": [
    "## Exploring the data\n",
    "\n",
    "You can use the head function to get the first 5 entries in a data frame"
   ]
  },
  {
   "cell_type": "code",
   "execution_count": 23,
   "metadata": {},
   "outputs": [
    {
     "data": {
      "text/html": [
       "<div>\n",
       "<style scoped>\n",
       "    .dataframe tbody tr th:only-of-type {\n",
       "        vertical-align: middle;\n",
       "    }\n",
       "\n",
       "    .dataframe tbody tr th {\n",
       "        vertical-align: top;\n",
       "    }\n",
       "\n",
       "    .dataframe thead th {\n",
       "        text-align: right;\n",
       "    }\n",
       "</style>\n",
       "<table border=\"1\" class=\"dataframe\">\n",
       "  <thead>\n",
       "    <tr style=\"text-align: right;\">\n",
       "      <th></th>\n",
       "      <th>EXAM1</th>\n",
       "      <th>EXAM2</th>\n",
       "      <th>EXAM3</th>\n",
       "      <th>FINAL</th>\n",
       "    </tr>\n",
       "  </thead>\n",
       "  <tbody>\n",
       "    <tr>\n",
       "      <th>0</th>\n",
       "      <td>73</td>\n",
       "      <td>80</td>\n",
       "      <td>75</td>\n",
       "      <td>152</td>\n",
       "    </tr>\n",
       "    <tr>\n",
       "      <th>1</th>\n",
       "      <td>93</td>\n",
       "      <td>88</td>\n",
       "      <td>93</td>\n",
       "      <td>185</td>\n",
       "    </tr>\n",
       "    <tr>\n",
       "      <th>2</th>\n",
       "      <td>89</td>\n",
       "      <td>91</td>\n",
       "      <td>90</td>\n",
       "      <td>180</td>\n",
       "    </tr>\n",
       "    <tr>\n",
       "      <th>3</th>\n",
       "      <td>96</td>\n",
       "      <td>98</td>\n",
       "      <td>100</td>\n",
       "      <td>196</td>\n",
       "    </tr>\n",
       "    <tr>\n",
       "      <th>4</th>\n",
       "      <td>73</td>\n",
       "      <td>66</td>\n",
       "      <td>70</td>\n",
       "      <td>142</td>\n",
       "    </tr>\n",
       "  </tbody>\n",
       "</table>\n",
       "</div>"
      ],
      "text/plain": [
       "   EXAM1  EXAM2  EXAM3  FINAL\n",
       "0     73     80     75    152\n",
       "1     93     88     93    185\n",
       "2     89     91     90    180\n",
       "3     96     98    100    196\n",
       "4     73     66     70    142"
      ]
     },
     "execution_count": 23,
     "metadata": {},
     "output_type": "execute_result"
    }
   ],
   "source": [
    "df.head()"
   ]
  },
  {
   "cell_type": "markdown",
   "metadata": {},
   "source": [
    "### Is our data linear?\n",
    "\n",
    "we can show a simple 2D plot for each of our features to get a general idea if our features have a linear relationship to our output"
   ]
  },
  {
   "cell_type": "code",
   "execution_count": 24,
   "metadata": {},
   "outputs": [
    {
     "data": {
      "image/png": "[encoded data removed]",
      "text/plain": [
       "<Figure size 1656x504 with 3 Axes>"
      ]
     },
     "metadata": {
      "needs_background": "light"
     },
     "output_type": "display_data"
    }
   ],
   "source": [
    "fig, axarr = plt.subplots(1, 3, figsize=(23, 7))\n",
    "\n",
    "# set index to loop through plots\n",
    "i = 0\n",
    "\n",
    "\n",
    "for i in range(3):\n",
    "    axarr[i].scatter(X[:, i], X[:, 3])"
   ]
  },
  {
   "cell_type": "markdown",
   "metadata": {},
   "source": [
    "Our data seems to be pretty linear so Linear Regression seems like a good option"
   ]
  },
  {
   "cell_type": "markdown",
   "metadata": {},
   "source": [
    "### Visualizing the shape of our data\n",
    "\n",
    "X is a feature matrix that is m x n where:\n",
    "\n",
    "* m = number of samples\n",
    "* n = number of features\n",
    "\n",
    "y is our ouput vector that is m x 1"
   ]
  },
  {
   "cell_type": "code",
   "execution_count": 25,
   "metadata": {},
   "outputs": [],
   "source": [
    "# .values will transform the dataframe into a more familiar numpy array\n",
    "# We can get our data into a numpy array by getting the columns by their keys\n",
    "# Also we'll add our bias here as well\n",
    "y = df['FINAL'].values\n",
    "X = df[['EXAM1', 'EXAM2', 'EXAM3']].values"
   ]
  },
  {
   "cell_type": "markdown",
   "metadata": {},
   "source": [
    "## Normalize features"
   ]
  },
  {
   "cell_type": "code",
   "execution_count": 26,
   "metadata": {},
   "outputs": [],
   "source": [
    "def normalize(X):\n",
    "\n",
    "    mu = np.mean(X, axis=0)\n",
    "    sigma = np.std(X, axis=0)\n",
    "    X_norm = (X - mu) / sigma\n",
    "    \n",
    "    return mu, sigma, X_norm"
   ]
  },
  {
   "cell_type": "code",
   "execution_count": 27,
   "metadata": {},
   "outputs": [
    {
     "name": "stdout",
     "output_type": "stream",
     "text": [
      "Mean [79.04 79.48 81.48]\n",
      "Standard deviation [12.0315585  12.25110607 11.52777515]\n",
      "Normalized X matrix sample [-0.5020131   0.04244515 -0.56212061]\n"
     ]
    }
   ],
   "source": [
    "mu, sigma, X = normalize(X)\n",
    "print(\"Mean\", mu)\n",
    "print(\"Standard deviation\", sigma)\n",
    "print(\"Normalized X matrix sample\", X[0])"
   ]
  },
  {
   "cell_type": "markdown",
   "metadata": {},
   "source": [
    "## Add bias to input"
   ]
  },
  {
   "cell_type": "code",
   "execution_count": 28,
   "metadata": {},
   "outputs": [
    {
     "name": "stdout",
     "output_type": "stream",
     "text": [
      "Normalized X with bias [ 1.         -0.5020131   0.04244515 -0.56212061]\n"
     ]
    }
   ],
   "source": [
    "X = np.concatenate([np.ones((m, 1)), X], axis=1)\n",
    "print(\"Normalized X with bias\", X[0])"
   ]
  },
  {
   "cell_type": "markdown",
   "metadata": {},
   "source": [
    "## Computing the cost function $J(\\theta)$"
   ]
  },
  {
   "cell_type": "code",
   "execution_count": 29,
   "metadata": {},
   "outputs": [],
   "source": [
    "# function to compute cost\n",
    "\n",
    "def computeCost(X, y, theta):\n",
    "    \n",
    "    # get number of samples\n",
    "    m = y.shape[0]\n",
    "    \n",
    "    # compute hypothesis\n",
    "    h = X@theta\n",
    "    \n",
    "    # Compute cost\n",
    "    J = 1/(2*m)*sum((h-y)**2)\n",
    "    \n",
    "    return J"
   ]
  },
  {
   "cell_type": "markdown",
   "metadata": {},
   "source": [
    "## Implementing Gradient Descent"
   ]
  },
  {
   "cell_type": "code",
   "execution_count": 30,
   "metadata": {},
   "outputs": [],
   "source": [
    "# function for getting gradient descent\n",
    "\n",
    "def gradientDescent(X, y, theta, alpha, num_iters):\n",
    "    \n",
    "    # get number of samples\n",
    "    m = y.shape[0]\n",
    "    \n",
    "    # get a copy of theta, which will be updated by gradient descent\n",
    "    theta = theta.copy()\n",
    "    \n",
    "    J_history = []\n",
    "    \n",
    "    for i in range(num_iters):\n",
    "        \n",
    "        h = X@theta\n",
    "        \n",
    "        theta = theta - alpha * (1/m) * (h-y)@X\n",
    "        \n",
    "        # save the cost on every iteration\n",
    "        J_history.append(computeCost(X, y, theta))\n",
    "    \n",
    "    return theta, J_history"
   ]
  },
  {
   "cell_type": "code",
   "execution_count": 31,
   "metadata": {},
   "outputs": [
    {
     "name": "stdout",
     "output_type": "stream",
     "text": [
      "The shape of X is (25, 4)\n",
      "The shape of y is (25,)\n",
      "Example feature vector [ 1.         -0.5020131   0.04244515 -0.56212061]\n"
     ]
    }
   ],
   "source": [
    "print(\"The shape of X is\", X.shape)\n",
    "print(\"The shape of y is\", y.shape)\n",
    "print(\"Example feature vector\", X[0])"
   ]
  },
  {
   "cell_type": "markdown",
   "metadata": {},
   "source": [
    "## Training your model"
   ]
  },
  {
   "cell_type": "code",
   "execution_count": 32,
   "metadata": {},
   "outputs": [
    {
     "name": "stdout",
     "output_type": "stream",
     "text": [
      "theta computed from gradient descent: [162.0399998    4.94883267   6.43114652  12.99386812]\n",
      "theta computed from gradient descent: [ 9.61452943e+83 -1.48297673e+99 -1.45766243e+99 -1.45275857e+99]\n"
     ]
    },
    {
     "data": {
      "image/png": "[encoded data removed]",
      "text/plain": [
       "<Figure size 1656x504 with 6 Axes>"
      ]
     },
     "metadata": {
      "needs_background": "light"
     },
     "output_type": "display_data"
    }
   ],
   "source": [
    "fig, axarr = plt.subplots(2, 3, figsize=(23, 7))\n",
    "\n",
    "num_iters = 400\n",
    "\n",
    "alpha_list = [.001, .01, .05, .1, .5, 1]\n",
    "\n",
    "idx = 0\n",
    "\n",
    "for i in range(2):\n",
    "    for j in range(3):\n",
    "\n",
    "        theta = np.zeros(4)\n",
    "        theta, J_history = gradientDescent(X, y, theta, alpha_list[idx], num_iters)\n",
    "\n",
    "        axarr[i,j].plot(np.arange(len(J_history)), J_history, lw=2)\n",
    "        axarr[i,j].set_xlabel('Number of iterations')\n",
    "        axarr[i,j].set_ylabel('Cost J')\n",
    "        idx += 1\n",
    "\n",
    "    print('theta computed from gradient descent: {:s}'.format(str(theta)))"
   ]
  },
  {
   "cell_type": "markdown",
   "metadata": {},
   "source": [
    "## Making a Prediction"
   ]
  },
  {
   "cell_type": "code",
   "execution_count": 33,
   "metadata": {},
   "outputs": [
    {
     "name": "stdout",
     "output_type": "stream",
     "text": [
      "input vector [-1.38873015  0.46291005  0.9258201 ]\n",
      "input vector with bias [ 1.         -1.38873015  0.46291005  0.9258201 ]\n",
      "theta [162.04         4.2824915    6.64645485  13.45803443]\n",
      "Final Exam Score 171.62920445979904\n"
     ]
    }
   ],
   "source": [
    "# compute theta\n",
    "alpha = .6\n",
    "num_iters = 500\n",
    "\n",
    "theta = np.zeros(4)\n",
    "\n",
    "theta, J_history = gradientDescent(X, y, theta, alpha, num_iters)\n",
    "\n",
    "\n",
    "# input features\n",
    "input_vec = [70, 90, 95]\n",
    "\n",
    "# normalize\n",
    "mu, sigma, input_vec = normalize(input_vec)\n",
    "    \n",
    "# Recall that the first column of X is all-ones. \n",
    "# Thus, it does not need to be normalized.\n",
    "# add bias\n",
    "input_vec_bias = np.append(1, input_vec)\n",
    "\n",
    "print(\"input vector\", input_vec)\n",
    "print(\"input vector with bias\", input_vec_bias)\n",
    "print(\"theta\", theta)\n",
    "\n",
    "final = input_vec_bias@theta\n",
    "\n",
    "\n",
    "print('Final Exam Score', final)\n"
   ]
  },
  {
   "cell_type": "markdown",
   "metadata": {},
   "source": [
    "## Determine how well the model performed"
   ]
  },
  {
   "cell_type": "code",
   "execution_count": 34,
   "metadata": {},
   "outputs": [],
   "source": [
    "h = X@theta"
   ]
  },
  {
   "cell_type": "code",
   "execution_count": 35,
   "metadata": {},
   "outputs": [],
   "source": [
    "def computeR2(h, y):\n",
    "    SSres = sum((y-h)**2)\n",
    "    SStot = sum((y-y.mean())**2)\n",
    "    R2 = 1 - SSres/SStot\n",
    "\n",
    "    print('SSres is: ', SSres)\n",
    "    print('SStot is:', SStot)\n",
    "    print('R-squared is: ', R2)"
   ]
  },
  {
   "cell_type": "code",
   "execution_count": 36,
   "metadata": {},
   "outputs": [
    {
     "name": "stdout",
     "output_type": "stream",
     "text": [
      "SSres is:  143.44517860350442\n",
      "SStot is: 13874.960000000005\n",
      "R-squared is:  0.9896615789448399\n"
     ]
    }
   ],
   "source": [
    "computeR2(h, y)"
   ]
  },
  {
   "cell_type": "code",
   "execution_count": null,
   "metadata": {},
   "outputs": [],
   "source": []
  }
 ],
 "metadata": {
  "kernelspec": {
   "display_name": "Python 3",
   "language": "python",
   "name": "python3"
  },
  "language_info": {
   "codemirror_mode": {
    "name": "ipython",
    "version": 3
   },
   "file_extension": ".py",
   "mimetype": "text/x-python",
   "name": "python",
   "nbconvert_exporter": "python",
   "pygments_lexer": "ipython3",
   "version": "3.7.3"
  }
 },
 "nbformat": 4,
 "nbformat_minor": 4
}
