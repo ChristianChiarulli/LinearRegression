{
 "cells": [
  {
   "cell_type": "markdown",
   "metadata": {},
   "source": [
    "# 1D Linear Regression Using Ordinary Least Squares\n",
    "\n",
    "Here we will introduce Multiple Linear Regression and compute the weights using Ordinary Least Squares (OLS)\n",
    "\n",
    "This notebook will give you an algorithm that will work for n number of input features but forst we'll test it on 1D data\n",
    "\n",
    "## Process\n",
    "\n",
    "* Loading the data\n",
    "* Exploring the data\n",
    "* Adding bias to our input \n",
    "* Solve for weights using OLS\n",
    "* Compute hypothesis\n",
    "* Fit a line using weights\n",
    "* Make a Prediction\n",
    "\n",
    "## Equations\n",
    "\n",
    "where the hypothesis $h_\\theta(x)$ is given by the linear model\n",
    "\n",
    "$$ h_\\theta(x) = \\theta^Tx = x_0\\theta_0 + \\theta_1 x_1$$\n",
    "\n",
    "where $\\theta$ is computed using OLS\n",
    "\n",
    "$$ \\theta = \\left( X^T X\\right)^{-1} X^T\\vec{y}$$"
   ]
  },
  {
   "cell_type": "code",
   "execution_count": 2,
   "metadata": {},
   "outputs": [],
   "source": [
    "%matplotlib inline\n",
    "import os\n",
    "import numpy as np\n",
    "\n",
    "import matplotlib.pyplot as plt"
   ]
  },
  {
   "cell_type": "markdown",
   "metadata": {},
   "source": [
    "## Loading the Data"
   ]
  },
  {
   "cell_type": "code",
   "execution_count": 3,
   "metadata": {},
   "outputs": [
    {
     "name": "stdout",
     "output_type": "stream",
     "text": [
      "Shape of data (97, 2)\n",
      "Number of features 1\n",
      "Number of samples 97\n"
     ]
    }
   ],
   "source": [
    "data = np.loadtxt('data/population_vs_profit.txt', delimiter=',')\n",
    "n = len(data[1]) -1\n",
    "m = len(data)\n",
    "print(\"Shape of data\", data.shape)\n",
    "print(\"Number of features\", n)\n",
    "print(\"Number of samples\", m)\n",
    "X, y = data[:, n-1], data[:, n]\n",
    "x = X"
   ]
  },
  {
   "cell_type": "markdown",
   "metadata": {},
   "source": [
    "## Exploring the data \n",
    "\n",
    "### Plot the data"
   ]
  },
  {
   "cell_type": "code",
   "execution_count": 4,
   "metadata": {},
   "outputs": [
    {
     "data": {
      "image/png": "[encoded data removed]",
      "text/plain": [
       "<Figure size 432x288 with 1 Axes>"
      ]
     },
     "metadata": {
      "needs_background": "light"
     },
     "output_type": "display_data"
    }
   ],
   "source": [
    "plt.scatter(X, y)\n",
    "plt.ylabel('Profit in $10,000')\n",
    "plt.xlabel('Population in 10,000s')\n",
    "plt.show()"
   ]
  },
  {
   "cell_type": "markdown",
   "metadata": {},
   "source": [
    "### Visualizing the shape of our data\n",
    "\n",
    "X is a feature vector that is m x 1 where:\n",
    "\n",
    "* m = number of samples\n",
    "* n = number of features\n",
    "\n",
    "In the case of 1D linear regression n just equals 1\n",
    "\n",
    "y is our ouput vector that is m x 1"
   ]
  },
  {
   "cell_type": "code",
   "execution_count": 5,
   "metadata": {},
   "outputs": [
    {
     "name": "stdout",
     "output_type": "stream",
     "text": [
      "The shape of X is (97,)\n",
      "The shape of y is (97,)\n"
     ]
    }
   ],
   "source": [
    "print(\"The shape of X is\", X.shape)\n",
    "print(\"The shape of y is\", y.shape)"
   ]
  },
  {
   "cell_type": "markdown",
   "metadata": {},
   "source": [
    "## Adding bias to our input\n",
    "\n",
    "This is adding the b in $y = mx +b$\n",
    "\n",
    "We will change the way we think about this equation\n",
    "\n",
    "We will absorb b into our input vector and compute b like we would any other weight\n",
    "\n",
    "To do this we add a column of 1's to our feature vectors and call it $x_0$ "
   ]
  },
  {
   "cell_type": "code",
   "execution_count": 6,
   "metadata": {},
   "outputs": [
    {
     "name": "stdout",
     "output_type": "stream",
     "text": [
      "Shape of X is (97, 2)\n",
      "Example feature vector [1.     6.1101]\n"
     ]
    }
   ],
   "source": [
    "# here we add a column of 1's for our bias we'll use stack for numpy arrays with shape (m,)\n",
    "X = np.stack([np.ones(m), X], axis=1)\n",
    "\n",
    "print(\"Shape of X is\", X.shape)\n",
    "print(\"Example feature vector\", X[0])"
   ]
  },
  {
   "cell_type": "markdown",
   "metadata": {},
   "source": [
    "## Solve for weights using OLS\n",
    "\n",
    "Basically we just need to transform the following function into python code\n",
    "\n",
    "$$ \\theta = \\left( X^T X\\right)^{-1} X^T\\vec{y}$$\n",
    "\n",
    "The first value in $\\theta$ is our $x_0$"
   ]
  },
  {
   "cell_type": "code",
   "execution_count": 7,
   "metadata": {},
   "outputs": [
    {
     "name": "stdout",
     "output_type": "stream",
     "text": [
      "Shape of theta is (2,)\n",
      "theta is [-3.89578088  1.19303364]\n"
     ]
    }
   ],
   "source": [
    "theta = np.linalg.pinv(X.T@X)@X.T@y\n",
    "print(\"Shape of theta is\", theta.shape)\n",
    "print(\"theta is\", theta)"
   ]
  },
  {
   "cell_type": "markdown",
   "metadata": {},
   "source": [
    "## Compute hypothesis\n",
    "\n",
    "We'll take our input vector X and pretend we dont know our output vector y\n",
    "\n",
    "then using the weights we found we'll try and predict what y would be at any point"
   ]
  },
  {
   "cell_type": "code",
   "execution_count": 8,
   "metadata": {},
   "outputs": [],
   "source": [
    "h = X@theta"
   ]
  },
  {
   "cell_type": "code",
   "execution_count": 9,
   "metadata": {},
   "outputs": [
    {
     "data": {
      "text/plain": [
       "(97,)"
      ]
     },
     "execution_count": 9,
     "metadata": {},
     "output_type": "execute_result"
    }
   ],
   "source": [
    "h.shape"
   ]
  },
  {
   "cell_type": "markdown",
   "metadata": {},
   "source": [
    "# Creating our line of best fit"
   ]
  },
  {
   "cell_type": "code",
   "execution_count": 10,
   "metadata": {},
   "outputs": [
    {
     "data": {
      "text/plain": [
       "(97,)"
      ]
     },
     "execution_count": 10,
     "metadata": {},
     "output_type": "execute_result"
    }
   ],
   "source": [
    "X[:, 1].shape"
   ]
  },
  {
   "cell_type": "code",
   "execution_count": 11,
   "metadata": {},
   "outputs": [
    {
     "data": {
      "text/plain": [
       "6.1101"
      ]
     },
     "execution_count": 11,
     "metadata": {},
     "output_type": "execute_result"
    }
   ],
   "source": [
    "# Remember X[:, 0] will be all 1's\n",
    "X[:, 1][0]"
   ]
  },
  {
   "cell_type": "code",
   "execution_count": 12,
   "metadata": {},
   "outputs": [
    {
     "data": {
      "image/png": "[encoded data removed]",
      "text/plain": [
       "<Figure size 432x288 with 1 Axes>"
      ]
     },
     "metadata": {
      "needs_background": "light"
     },
     "output_type": "display_data"
    }
   ],
   "source": [
    "plt.scatter(X[:, 1], y)\n",
    "plt.scatter(X[:, 1], h, c='green')\n",
    "plt.ylabel('Profit in $10,000')\n",
    "plt.xlabel('Population in 10,000s')\n",
    "plt.plot(X[:, 1], h, c='red')\n",
    "plt.show()"
   ]
  },
  {
   "cell_type": "markdown",
   "metadata": {},
   "source": [
    "# Making a prediction\n",
    "\n",
    "now we can create our own input vector and get an estimated result"
   ]
  },
  {
   "cell_type": "code",
   "execution_count": 13,
   "metadata": {},
   "outputs": [
    {
     "name": "stdout",
     "output_type": "stream",
     "text": [
      "Input vector [1.5]\n",
      "Input vector with bias [1.  1.5]\n",
      "theta [-3.89578088  1.19303364]\n",
      "Profit -2.106230412027486\n"
     ]
    }
   ],
   "source": [
    "# population 15,000\n",
    "input_vec = [1.5]\n",
    "\n",
    "# add a bias since all inputs must begin with 1\n",
    "input_vec_bias = np.append(1, input_vec)\n",
    "\n",
    "# make a prediction\n",
    "profit = theta.T@input_vec_bias\n",
    "\n",
    "print(\"Input vector\", input_vec)\n",
    "print(\"Input vector with bias\", input_vec_bias)\n",
    "print(\"theta\", theta)\n",
    "print(\"Profit\", profit)"
   ]
  },
  {
   "cell_type": "markdown",
   "metadata": {},
   "source": [
    "## Determine how well your model performed\n",
    "\n",
    "We need some numerical measure to see how well our model performed\n",
    "\n",
    "For this we can use $R^2$ (R-Squared)\n",
    "\n",
    "We ususally use this for any regression not just Linear Regression\n",
    "\n",
    "The definition for R-Squared is the following:\n",
    "\n",
    "$$R^2 = 1 - \\frac{SS_{res}}{SS_{tot}}$$\n",
    "\n",
    "where: \n",
    "\n",
    "$SS_{res}$ is the sum of squared residual \n",
    "\n",
    "and\n",
    "\n",
    "$SS_{tot}$ is the sum of squared total\n",
    "\n",
    "These are defined as:\n",
    "\n",
    "$$SS_{res} = \\sum^N_{i=1}(y_i - \\hat{y_i})^2$$\n",
    "\n",
    "<br />\n",
    "\n",
    "$$SS_{tot} = \\sum^N_{i=1}(y_i - \\bar{y})^2$$\n",
    "\n",
    "$R^2 = 1$ is a perfect model\n",
    "\n",
    "$R^2 = 0$ is basically the average (50%)\n",
    "\n",
    "$R^2 = -$ is worse than just computing the average"
   ]
  },
  {
   "cell_type": "code",
   "execution_count": 14,
   "metadata": {},
   "outputs": [
    {
     "name": "stdout",
     "output_type": "stream",
     "text": [
      "SSres is:  868.5324469391846\n",
      "SStot is: 2914.8470516572247\n",
      "R-squared is:  0.7020315537841397\n"
     ]
    }
   ],
   "source": [
    "SSres = sum((y-h)**2)\n",
    "\n",
    "SStot = sum((y-y.mean())**2)\n",
    "\n",
    "R2 = 1 - SSres/SStot\n",
    "\n",
    "print('SSres is: ', SSres)\n",
    "print('SStot is:', SStot)\n",
    "print('R-squared is: ', R2)"
   ]
  },
  {
   "cell_type": "code",
   "execution_count": null,
   "metadata": {},
   "outputs": [],
   "source": []
  }
 ],
 "metadata": {
  "kernelspec": {
   "display_name": "Python 3",
   "language": "python",
   "name": "python3"
  },
  "language_info": {
   "codemirror_mode": {
    "name": "ipython",
    "version": 3
   },
   "file_extension": ".py",
   "mimetype": "text/x-python",
   "name": "python",
   "nbconvert_exporter": "python",
   "pygments_lexer": "ipython3",
   "version": "3.7.3"
  }
 },
 "nbformat": 4,
 "nbformat_minor": 4
}
